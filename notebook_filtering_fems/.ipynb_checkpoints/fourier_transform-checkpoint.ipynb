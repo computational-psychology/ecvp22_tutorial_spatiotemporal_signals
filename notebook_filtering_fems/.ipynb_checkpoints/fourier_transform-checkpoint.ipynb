{
 "cells": [
  {
   "cell_type": "markdown",
   "id": "67e37569",
   "metadata": {},
   "source": [
    "# Imports"
   ]
  },
  {
   "cell_type": "code",
   "execution_count": 1,
   "id": "8a511704",
   "metadata": {},
   "outputs": [],
   "source": [
    "import numpy as np\n",
    "import matplotlib.pyplot as plt\n",
    "from ipywidgets import interact"
   ]
  },
  {
   "cell_type": "markdown",
   "id": "e00ff6b4",
   "metadata": {},
   "source": [
    "# Create sinusoidal grating"
   ]
  },
  {
   "cell_type": "code",
   "execution_count": 2,
   "id": "72366d31",
   "metadata": {},
   "outputs": [],
   "source": [
    "# Some default parameters:\n",
    "# Spatial resolution (pixels per degree):\n",
    "ppd = 100.\n",
    "\n",
    "# Orientation of sinusoid:\n",
    "alpha = 0.\n",
    "\n",
    "# Phase of sinusoid:\n",
    "phi = 0.\n",
    "\n",
    "# Amplitude of sinusoid:\n",
    "C = 1.\n",
    "\n",
    "# Spatial extent of sinusoid (deg):\n",
    "extent = [0, 1.]\n",
    "\n",
    "# Helper function to create oriented gratings\n",
    "def create_grating(sf, alpha=alpha, phi=phi, C=C, ppd=ppd, extent=extent):\n",
    "    x = np.arange(extent[0], extent[1], 1./ppd)\n",
    "    xx, yy = np.meshgrid(x, x)\n",
    "    alpha = [np.cos(alpha), np.sin(alpha)]\n",
    "\n",
    "    # We use a sinusoidal grating with mean luminance of zero (= without DC component)\n",
    "    grating_2d = C * np.sin((alpha[0]*xx + alpha[1]*yy) * 2. * np.pi * sf + phi)\n",
    "    return grating_2d"
   ]
  },
  {
   "cell_type": "code",
   "execution_count": 3,
   "id": "7c923258",
   "metadata": {},
   "outputs": [
    {
     "data": {
      "image/png": "[encoded data removed]",
      "text/plain": [
       "<Figure size 576x432 with 2 Axes>"
      ]
     },
     "metadata": {
      "needs_background": "light"
     },
     "output_type": "display_data"
    }
   ],
   "source": [
    "# Create grating with certain spatial frequency (sf in cpd)\n",
    "sf = 1.\n",
    "grating = create_grating(sf)\n",
    "\n",
    "# Plot grating\n",
    "plt.figure(figsize=(8, 6))\n",
    "plt.imshow(grating, cmap='gray', extent=extent+extent)\n",
    "plt.colorbar()\n",
    "plt.show()"
   ]
  },
  {
   "cell_type": "markdown",
   "id": "5356a695",
   "metadata": {},
   "source": [
    "# Power spectrum of grating"
   ]
  },
  {
   "cell_type": "code",
   "execution_count": 4,
   "id": "88a61d08",
   "metadata": {},
   "outputs": [],
   "source": [
    "# Helper function to plot grating and power spectrum:\n",
    "# Helper function to plot grating\n",
    "def plot_grating(grating_2d, gpower_2d, grating_1d, gpower_1d, extent, x, sff):\n",
    "    sff_ext = (sff[0], sff[-1], sff[0], sff[-1])\n",
    "\n",
    "    plt.figure(figsize=(18, 3))\n",
    "    plt.subplot(141)\n",
    "    plt.imshow(grating_2d, cmap='gray', extent=extent+extent)\n",
    "    plt.colorbar()\n",
    "    plt.title('2d grating')\n",
    "    plt.xlabel('deg')\n",
    "    plt.ylabel('deg')\n",
    "\n",
    "    plt.subplot(142)\n",
    "    plt.imshow(np.log10(gpower_2d + 0.001), extent=sff_ext, vmax=-2)\n",
    "    plt.colorbar()\n",
    "    plt.title('Power spectrum (log)')\n",
    "    plt.xlabel('cpd')\n",
    "    plt.ylabel('cpd')\n",
    "\n",
    "    plt.subplot(143)\n",
    "    plt.plot(x, grating_1d)\n",
    "    plt.title('1d grating')\n",
    "    plt.xlabel('deg')\n",
    "    plt.ylabel('Luminance')\n",
    "\n",
    "    plt.subplot(144)\n",
    "    plt.plot(sff, np.log10(gpower_1d+0.001))\n",
    "    plt.xlabel('cpd')\n",
    "    plt.ylabel('Power')\n",
    "    plt.show()"
   ]
  },
  {
   "cell_type": "code",
   "execution_count": 5,
   "id": "277e5655",
   "metadata": {},
   "outputs": [
    {
     "data": {
      "application/vnd.jupyter.widget-view+json": {
       "model_id": "bd6df6ff4ede4d35bc30f49e44ebb6ae",
       "version_major": 2,
       "version_minor": 0
      },
      "text/plain": [
       "interactive(children=(FloatSlider(value=14.0, description='sf', max=28.0, step=7.0), FloatSlider(value=0.0, de…"
      ]
     },
     "metadata": {},
     "output_type": "display_data"
    },
    {
     "data": {
      "text/plain": [
       "<function __main__.explore_grating(sf, alpha, phi, C, ppd)>"
      ]
     },
     "execution_count": 5,
     "metadata": {},
     "output_type": "execute_result"
    }
   ],
   "source": [
    "# Interactively plot the grating to get to know the effect of different parameters:\n",
    "def explore_grating(sf, alpha, phi, C, ppd):\n",
    "    # Create sinusoidal grating:\n",
    "    grating_2d = create_grating(sf, alpha=alpha, phi=phi, C=C, ppd=ppd, extent=extent)\n",
    "    \n",
    "    # Get 1d cut-through:\n",
    "    x = np.arange(extent[0], extent[1], 1/ppd)\n",
    "    nX = len(x)\n",
    "    grating_1d = grating_2d[int(nX/2.), :]\n",
    "\n",
    "    # Predefine spatial frequency axes:\n",
    "    sff = np.fft.fftshift(np.fft.fftfreq(nX, d=1./ppd))\n",
    "\n",
    "    # Calculate fft and fftshift:\n",
    "    gfft_1d = np.fft.fftshift(np.fft.fft(grating_1d))\n",
    "    gfft_2d = np.fft.fftshift(np.fft.fft2(grating_2d))\n",
    "\n",
    "    # Calculate power:\n",
    "    gpower_1d = np.abs(gfft_1d)**2.\n",
    "    gpower_2d = np.abs(gfft_2d)**2.\n",
    "    \n",
    "    # Plot the grating\n",
    "    plot_grating(grating_2d, gpower_2d, grating_1d, gpower_1d, extent, x, sff)\n",
    "\n",
    "interact(explore_grating, sf=(0.,28.,7.), alpha=(-np.pi, np.pi, np.pi/2.), phi=(-np.pi,np.pi,np.pi/4.), C=(0.,2.,1.), ppd=(40.,100.,60.))"
   ]
  },
  {
   "cell_type": "code",
   "execution_count": null,
   "id": "dafa099e",
   "metadata": {},
   "outputs": [],
   "source": []
  }
 ],
 "metadata": {
  "kernelspec": {
   "display_name": "Python 3",
   "language": "python",
   "name": "python3"
  },
  "language_info": {
   "codemirror_mode": {
    "name": "ipython",
    "version": 3
   },
   "file_extension": ".py",
   "mimetype": "text/x-python",
   "name": "python",
   "nbconvert_exporter": "python",
   "pygments_lexer": "ipython3",
   "version": "3.7.10"
  }
 },
 "nbformat": 4,
 "nbformat_minor": 5
}
