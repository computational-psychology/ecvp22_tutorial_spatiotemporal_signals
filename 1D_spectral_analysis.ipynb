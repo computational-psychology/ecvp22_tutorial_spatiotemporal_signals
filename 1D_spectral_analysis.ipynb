{
 "cells": [
  {
   "cell_type": "markdown",
   "metadata": {
    "slideshow": {
     "slide_type": "slide"
    },
    "toc": true
   },
   "source": [
    "<h1>Signal processing (in 1D)<span class=\"tocSkip\"></span></h1>\n",
    "<div class=\"toc\"><ul class=\"toc-item\"><li><span><a href=\"#Signals:-descriptions-of-change-over-time-(or-space,-or-both)\" data-toc-modified-id=\"Signals:-descriptions-of-change-over-time-(or-space,-or-both)-1\"><span class=\"toc-item-num\">1&nbsp;&nbsp;</span>Signals: descriptions of change over time (or space, or both)</a></span></li><li><span><a href=\"#Frequency-domain-description-of-a-signal:-Fourier-transform\" data-toc-modified-id=\"Frequency-domain-description-of-a-signal:-Fourier-transform-2\"><span class=\"toc-item-num\">2&nbsp;&nbsp;</span>Frequency-domain description of a signal: Fourier transform</a></span></li><li><span><a href=\"#Signal-resolution:-important-limitations-on-digital-signal-processing\" data-toc-modified-id=\"Signal-resolution:-important-limitations-on-digital-signal-processing-3\"><span class=\"toc-item-num\">3&nbsp;&nbsp;</span>Signal resolution: important limitations on digital signal processing</a></span></li><li><span><a href=\"#Compound-waveforms\" data-toc-modified-id=\"Compound-waveforms-4\"><span class=\"toc-item-num\">4&nbsp;&nbsp;</span>Compound waveforms</a></span></li><li><span><a href=\"#Manipulating-signals-in-the-frequency-domain\" data-toc-modified-id=\"Manipulating-signals-in-the-frequency-domain-5\"><span class=\"toc-item-num\">5&nbsp;&nbsp;</span>Manipulating signals in the frequency domain</a></span></li></ul></div>"
   ]
  },
  {
   "cell_type": "code",
   "execution_count": null,
   "metadata": {
    "slideshow": {
     "slide_type": "skip"
    }
   },
   "outputs": [],
   "source": [
    "import numpy as np\n",
    "from numpy import *\n",
    "np.set_printoptions(precision=2, suppress=True)\n",
    "import time\n",
    "from scipy.fft import fft, fftfreq, fftshift, ifft, ifftshift\n",
    "import matplotlib.pyplot as plt\n",
    "from matplotlib.animation import FuncAnimation\n",
    "from IPython.display import clear_output, display, HTML\n",
    "import ipywidgets as widgets\n",
    "\n",
    "%matplotlib inline"
   ]
  },
  {
   "cell_type": "code",
   "execution_count": null,
   "metadata": {
    "slideshow": {
     "slide_type": "skip"
    }
   },
   "outputs": [],
   "source": [
    "plt.style.use('seaborn-whitegrid')\n",
    "plt.style.use('seaborn-poster')"
   ]
  },
  {
   "cell_type": "markdown",
   "metadata": {
    "slideshow": {
     "slide_type": "slide"
    }
   },
   "source": [
    "## Signals: descriptions of change over time (or space, or both)"
   ]
  },
  {
   "cell_type": "code",
   "execution_count": null,
   "metadata": {
    "slideshow": {
     "slide_type": "skip"
    }
   },
   "outputs": [],
   "source": [
    "duration = 3 # seconds\n",
    "sampling_rate = 32 # sample per sec\n",
    "\n",
    "times = linspace(start=0, stop=duration, num=sampling_rate*duration, endpoint=False)"
   ]
  },
  {
   "cell_type": "code",
   "execution_count": null,
   "metadata": {
    "slideshow": {
     "slide_type": "skip"
    }
   },
   "outputs": [],
   "source": [
    "def sinusoid(frequency, amplitude=1, phase=0, mean=0, length=duration, sampling_rate=sampling_rate):\n",
    "    xs = np.linspace(start=0, stop=length, num=int(sampling_rate*length), endpoint=False)\n",
    "    phase = np.deg2rad(phase)\n",
    "    return amplitude * np.cos(2*np.pi*frequency*xs + phase) + mean"
   ]
  },
  {
   "cell_type": "code",
   "execution_count": null,
   "metadata": {
    "slideshow": {
     "slide_type": "skip"
    }
   },
   "outputs": [],
   "source": [
    "# Produce sinusoidal luminance (L) signal\n",
    "original_frequency = 1\n",
    "original_amplitude = 1\n",
    "original_phase = 90\n",
    "L = sinusoid(frequency=original_frequency, amplitude=original_amplitude, phase=original_phase, length=duration, sampling_rate=sampling_rate)"
   ]
  },
  {
   "cell_type": "markdown",
   "metadata": {
    "slideshow": {
     "slide_type": "subslide"
    }
   },
   "source": [
    "### Changing luminance/intensity over time"
   ]
  },
  {
   "cell_type": "code",
   "execution_count": null,
   "metadata": {
    "slideshow": {
     "slide_type": "skip"
    }
   },
   "outputs": [],
   "source": [
    "def plot_pixel(ax, value=0):\n",
    "    \"\"\"Plot 1 'pixel' on a background\"\"\"\n",
    "    arr = np.zeros((3,3))\n",
    "    arr[1,1] = value\n",
    "    img = ax.imshow(arr, cmap=\"gray\", vmin=-1, vmax=1, animated=True)\n",
    "    ax.axis('off')\n",
    "    return img\n",
    "\n",
    "def anim_pixel(frame_num, img, waveform):\n",
    "    \"\"\"Update intensity of pixel\"\"\"\n",
    "    img_array = img.get_array()\n",
    "    img_array[1,1] = waveform[frame_num-1]\n",
    "    img.set_array(img_array)\n",
    "    return (img, )"
   ]
  },
  {
   "cell_type": "code",
   "execution_count": null,
   "metadata": {
    "hide_input": true,
    "slideshow": {
     "slide_type": "-"
    }
   },
   "outputs": [],
   "source": [
    "fig, pixel = plt.subplots(figsize=(6,5))\n",
    "img = plot_pixel(pixel, 1)\n",
    "\n",
    "plt.close('all')\n",
    "display(HTML(FuncAnimation(fig, anim_pixel, fargs=(img, L), blit=True, frames=len(L), interval=1000/sampling_rate).to_jshtml()))\n",
    "plt.close()"
   ]
  },
  {
   "cell_type": "markdown",
   "metadata": {
    "slideshow": {
     "slide_type": "fragment"
    }
   },
   "source": [
    "- 1 \"pixel\", changing in luminance\n",
    "- some smooth oscillation"
   ]
  },
  {
   "cell_type": "code",
   "execution_count": null,
   "metadata": {
    "slideshow": {
     "slide_type": "skip"
    }
   },
   "outputs": [],
   "source": [
    "L = sinusoid(frequency=original_frequency, amplitude=original_amplitude, phase=original_phase, length=duration, sampling_rate=sampling_rate)\n",
    "\n",
    "rng = np.random.default_rng(1234)\n",
    "noise = rng.normal(0,2,times.shape)\n",
    "L_in_noise = L + noise\n",
    "\n",
    "L_in_noise = (2*((L_in_noise - L_in_noise.min()) / (L_in_noise.max() - L_in_noise.min())))-1"
   ]
  },
  {
   "cell_type": "code",
   "execution_count": null,
   "metadata": {
    "hide_input": true,
    "slideshow": {
     "slide_type": "subslide"
    }
   },
   "outputs": [],
   "source": [
    "fig, pixel = plt.subplots(figsize=(6,5))\n",
    "img = plot_pixel(pixel, 1)\n",
    "\n",
    "plt.close('all')\n",
    "display(HTML(FuncAnimation(fig, anim_pixel, fargs=(img, L_in_noise), blit=True, frames=len(L_in_noise), interval=1000/sampling_rate).to_jshtml()))\n",
    "plt.close()"
   ]
  },
  {
   "cell_type": "markdown",
   "metadata": {
    "slideshow": {
     "slide_type": "fragment"
    }
   },
   "source": [
    "- 1 \"pixel\", changing in luminance\n",
    "- some more erratic change"
   ]
  },
  {
   "cell_type": "markdown",
   "metadata": {
    "slideshow": {
     "slide_type": "subslide"
    }
   },
   "source": [
    "### Expressing change in luminance (contrast)"
   ]
  },
  {
   "cell_type": "code",
   "execution_count": null,
   "metadata": {
    "slideshow": {
     "slide_type": "skip"
    }
   },
   "outputs": [],
   "source": [
    "def plot_bar(ax, value=0):\n",
    "    \"\"\"Plot a single bar graph\"\"\"\n",
    "    bars = ax.bar(x=0, height=value)\n",
    "    ax.set_xlim(-1,1)\n",
    "    ax.get_xaxis().set_visible(False)\n",
    "    ax.get_yaxis().set_visible(True)\n",
    "    ax.set_ylim(-original_amplitude*1.1,original_amplitude*1.1)\n",
    "    ax.yaxis.tick_right()\n",
    "    ax.set_ylabel(\"Contrast\")\n",
    "    ax.yaxis.set_label_position(\"right\")\n",
    "    return bars[0]\n",
    "\n",
    "def anim_bar(frame_num, bar, waveform):\n",
    "    \"\"\"Update height of bar\"\"\"\n",
    "    bar.set_height(waveform[frame_num-1])\n",
    "    return (bar,)"
   ]
  },
  {
   "cell_type": "code",
   "execution_count": null,
   "metadata": {
    "slideshow": {
     "slide_type": "skip"
    }
   },
   "outputs": [],
   "source": [
    "def anim_pix_bar(frame_num, pix, bar, waveform):\n",
    "    \"\"\"Update both intensity of pixel and height of bar\"\"\"\n",
    "    anim_bar(frame_num, bar, waveform)\n",
    "    anim_pixel(frame_num, pix, waveform)\n",
    "    return (bar, pix)"
   ]
  },
  {
   "cell_type": "code",
   "execution_count": null,
   "metadata": {
    "hide_input": true,
    "slideshow": {
     "slide_type": "-"
    }
   },
   "outputs": [],
   "source": [
    "plt.close('all')\n",
    "fig, (pix, b) = plt.subplots(1,2, figsize=(12,5))\n",
    "\n",
    "pix = plot_pixel(pix)\n",
    "bar = plot_bar(b)\n",
    "\n",
    "L = sinusoid(frequency=original_frequency, amplitude=original_amplitude, phase=original_phase)\n",
    "\n",
    "display(HTML(FuncAnimation(fig, anim_pix_bar, fargs=(pix, bar, L), blit=True, frames=len(L), interval=1000/sampling_rate).to_jshtml()))\n",
    "plt.close()"
   ]
  },
  {
   "cell_type": "markdown",
   "metadata": {
    "slideshow": {
     "slide_type": "fragment"
    }
   },
   "source": [
    "- 1  \"pixel\", changing in luminance\n",
    "- Expressed as contrast between  [−1,1]\n",
    "- Oscillating back and forth"
   ]
  },
  {
   "cell_type": "markdown",
   "metadata": {
    "slideshow": {
     "slide_type": "subslide"
    }
   },
   "source": [
    "### Tracing contrast over time"
   ]
  },
  {
   "cell_type": "code",
   "execution_count": null,
   "metadata": {
    "slideshow": {
     "slide_type": "skip"
    }
   },
   "outputs": [],
   "source": [
    "def plot_waveform(ax, waveform, times, plot_frames=False, plot_wave=True, linestyle=\"-\"):\n",
    "    if not plot_wave:\n",
    "        linestyle = \" \"\n",
    "    marker = \"o\" if plot_frames else \" \"\n",
    "    wav, = ax.plot(times, waveform, color='C0', marker=marker, linestyle=linestyle)\n",
    "\n",
    "    ax.set_xlabel(\"Time (s)\")\n",
    "    ax.set_ylabel(\"Contrast\")\n",
    "\n",
    "    return wav\n",
    "\n",
    "def anim_waveform(frame_num, wav, times, waveform):\n",
    "    wav.set_data(times[:frame_num], waveform[:frame_num])\n",
    "    return wav"
   ]
  },
  {
   "cell_type": "code",
   "execution_count": null,
   "metadata": {
    "slideshow": {
     "slide_type": "skip"
    }
   },
   "outputs": [],
   "source": [
    "def plot_trace(ax, t=0, val=0):\n",
    "    dot, = ax.plot(t, val, 'C0o ')\n",
    "    hline = ax.axhline(y=val, animated=True, linestyle=\"--\", color=\"C0\")\n",
    "    return dot, hline\n",
    "    \n",
    "def anim_trace(frame_num, dot, hline, times, waveform):\n",
    "    \"\"\"Update trace\"\"\"\n",
    "    dot.set_data(times[frame_num-1], waveform[frame_num-1])\n",
    "    hline.set_data([0,2],[waveform[frame_num-1],waveform[frame_num-1]])\n",
    "    return (dot, hline)"
   ]
  },
  {
   "cell_type": "code",
   "execution_count": null,
   "metadata": {
    "slideshow": {
     "slide_type": "skip"
    }
   },
   "outputs": [],
   "source": [
    "def anim_pix_bar_trace(frame_num, pix, bar, dot, hline, times, waveform):\n",
    "    anim_bar(frame_num, bar, waveform)\n",
    "    anim_pixel(frame_num, pix, waveform)\n",
    "    anim_trace(frame_num, dot, hline, times, waveform)\n",
    "    return (pix, bar, dot, hline)\n",
    "\n",
    "def anim_pix_bar_trace_wav(frame_num, pix, bar, dot, hline, wav, times, waveform):\n",
    "    anim_bar(frame_num, bar, waveform)\n",
    "    anim_pixel(frame_num, pix, waveform)\n",
    "    anim_trace(frame_num, dot, hline, times, waveform)\n",
    "    anim_waveform(frame_num, wav, times, waveform)\n",
    "    return (pix, bar, dot, hline, wav)"
   ]
  },
  {
   "cell_type": "code",
   "execution_count": null,
   "metadata": {
    "hide_input": true,
    "slideshow": {
     "slide_type": "skip"
    }
   },
   "outputs": [],
   "source": [
    "plt.close('all')\n",
    "fig, (pix, b, w) = plt.subplots(1,3, figsize=(18,5))\n",
    "\n",
    "pix = plot_pixel(pix)\n",
    "bar = plot_bar(b)\n",
    "\n",
    "b.yaxis.tick_right()\n",
    "b.set_ylabel(\" \")\n",
    "\n",
    "L = sinusoid(frequency=original_frequency, amplitude=original_amplitude, phase=original_phase)\n",
    "\n",
    "wav = plot_waveform(w, L, times, plot_frames=False, plot_wave=False)\n",
    "w.yaxis.set_label_position(\"right\")\n",
    "w.yaxis.set_ticklabels([])\n",
    "w.set_ylim(-original_amplitude*1.1,original_amplitude*1.1)\n",
    "\n",
    "\n",
    "dot, trace = plot_trace(w)\n",
    "\n",
    "display(HTML(FuncAnimation(fig, anim_pix_bar_trace, fargs=(pix, bar, dot, trace, times, L), blit=True, frames=len(L), interval=1000/sampling_rate).to_jshtml()))\n",
    "plt.close()"
   ]
  },
  {
   "cell_type": "code",
   "execution_count": null,
   "metadata": {
    "hide_input": true,
    "slideshow": {
     "slide_type": "-"
    }
   },
   "outputs": [],
   "source": [
    "plt.close('all')\n",
    "fig, (pix, b, w) = plt.subplots(1,3, figsize=(18,5))\n",
    "\n",
    "pix = plot_pixel(pix)\n",
    "bar = plot_bar(b)\n",
    "\n",
    "b.yaxis.tick_right()\n",
    "b.set_ylabel(\" \")\n",
    "\n",
    "L = sinusoid(frequency=original_frequency, amplitude=original_amplitude, phase=original_phase)\n",
    "\n",
    "wav = plot_waveform(w, L, times, plot_frames=False, plot_wave=True)\n",
    "w.yaxis.set_label_position(\"right\")\n",
    "w.yaxis.set_ticklabels([])\n",
    "w.set_ylim(-original_amplitude*1.1,original_amplitude*1.1)\n",
    "\n",
    "dot, trace = plot_trace(w)\n",
    "\n",
    "display(HTML(FuncAnimation(fig, anim_pix_bar_trace_wav, fargs=(pix, bar, dot, trace, wav, times, L), blit=True, frames=len(L), interval=1000/sampling_rate).to_jshtml()))\n",
    "plt.close()"
   ]
  },
  {
   "cell_type": "markdown",
   "metadata": {
    "hide_input": true,
    "slideshow": {
     "slide_type": "fragment"
    }
   },
   "source": [
    "- $1$ \"pixel\", changing in luminance contrast, between $[-1, 1]$\n",
    "- Oscilates _sinusoidally_ $3$ times ($3$ full _periods_)\n",
    "- In $3$ seconds, thus $\\frac{3\\ \\mathrm{periods}}{3s} = \\frac{1}{s} = 1\\ \\mathrm{Hz} $ frequency of oscilation"
   ]
  },
  {
   "cell_type": "code",
   "execution_count": null,
   "metadata": {
    "slideshow": {
     "slide_type": "skip"
    }
   },
   "outputs": [],
   "source": [
    "original_frequency = 1 # Hz\n",
    "duration           = 3 # s\n",
    "\n",
    "L = sinusoid(frequency=original_frequency, length=duration)"
   ]
  },
  {
   "cell_type": "markdown",
   "metadata": {
    "slideshow": {
     "slide_type": "subslide"
    }
   },
   "source": [
    "Since our signal is a _digital / discrete_ signal,\n",
    "we only have a limited number of _samples_ (not at every timepoint $t$)"
   ]
  },
  {
   "cell_type": "code",
   "execution_count": null,
   "metadata": {
    "hide_input": true,
    "slideshow": {
     "slide_type": "-"
    }
   },
   "outputs": [],
   "source": [
    "plt.close('all')\n",
    "fig, (pix, b, w) = plt.subplots(1,3, figsize=(18,5))\n",
    "\n",
    "pix = plot_pixel(pix)\n",
    "bar = plot_bar(b)\n",
    "\n",
    "b.yaxis.tick_right()\n",
    "b.set_ylabel(\" \")\n",
    "\n",
    "L = sinusoid(frequency=original_frequency, amplitude=original_amplitude, phase=original_phase)\n",
    "\n",
    "wav = plot_waveform(w, L, times, plot_frames=True, plot_wave=True)\n",
    "w.yaxis.set_label_position(\"right\")\n",
    "w.yaxis.set_ticklabels([])\n",
    "w.set_ylim(-original_amplitude*1.1,original_amplitude*1.1)\n",
    "\n",
    "dot, trace = plot_trace(w)\n",
    "\n",
    "display(HTML(FuncAnimation(fig, anim_pix_bar_trace_wav, fargs=(pix, bar, dot, trace, wav, times, L), blit=True, frames=len(L), interval=1000/sampling_rate).to_jshtml()))\n",
    "plt.close()"
   ]
  },
  {
   "cell_type": "markdown",
   "metadata": {
    "slideshow": {
     "slide_type": "fragment"
    }
   },
   "source": [
    "- $1$ \"pixel\", sinusoidally changing in luminance contrast between $[-1, 1]$, with a frequency of $1\\ \\mathrm{Hz}$\n",
    "- Over $3s$, with $96$ frames (samples) in total, giving a $\\frac{96}{3} = 32$ frames per second (fps) _sampling rate_"
   ]
  },
  {
   "cell_type": "code",
   "execution_count": null,
   "metadata": {
    "slideshow": {
     "slide_type": "skip"
    }
   },
   "outputs": [],
   "source": [
    "duration           = 3  # s\n",
    "sampling_rate      = 32 # fps\n",
    "original_frequency = 1  # Hz"
   ]
  },
  {
   "cell_type": "code",
   "execution_count": null,
   "metadata": {
    "hide_input": true,
    "scrolled": true,
    "slideshow": {
     "slide_type": "skip"
    }
   },
   "outputs": [],
   "source": [
    "assert duration*sampling_rate == len(L)\n",
    "print(f\"Length of waveform: {duration} * {sampling_rate} = {len(L)}\")"
   ]
  },
  {
   "cell_type": "markdown",
   "metadata": {
    "slideshow": {
     "slide_type": "subslide"
    }
   },
   "source": [
    "We can describe any signal with a such a waveform:"
   ]
  },
  {
   "cell_type": "code",
   "execution_count": null,
   "metadata": {
    "hide_input": true,
    "scrolled": false,
    "slideshow": {
     "slide_type": "-"
    }
   },
   "outputs": [],
   "source": [
    "plt.close('all')\n",
    "fig, (pix, b, w) = plt.subplots(1,3, figsize=(18,5))\n",
    "\n",
    "pix = plot_pixel(pix)\n",
    "bar = plot_bar(b)\n",
    "\n",
    "b.yaxis.tick_right()\n",
    "b.set_ylabel(\" \")\n",
    "\n",
    "wav = plot_waveform(w, L, times, plot_frames=True, plot_wave=True)\n",
    "w.yaxis.set_label_position(\"right\")\n",
    "w.yaxis.set_ticklabels([])\n",
    "w.set_ylim(-original_amplitude*1.1,original_amplitude*1.1)\n",
    "\n",
    "dot, trace = plot_trace(w)\n",
    "\n",
    "display(HTML(FuncAnimation(fig, anim_pix_bar_trace_wav, fargs=(pix, bar, dot, trace, wav, times, L_in_noise), blit=True, frames=len(L), interval=1000/sampling_rate).to_jshtml()))\n",
    "plt.close()"
   ]
  },
  {
   "cell_type": "markdown",
   "metadata": {
    "slideshow": {
     "slide_type": "fragment"
    }
   },
   "source": [
    "though we may not be able to (easily) describe it with a single frequency and amplitude"
   ]
  },
  {
   "cell_type": "markdown",
   "metadata": {
    "slideshow": {
     "slide_type": "subslide"
    }
   },
   "source": [
    "For now, we are going to explore the tools of digital signal analysis using single sinusoids like this one,\n",
    "and see if we can use some of those tools on other, more complex, signals as well."
   ]
  },
  {
   "cell_type": "code",
   "execution_count": null,
   "metadata": {
    "hide_input": true,
    "scrolled": false,
    "slideshow": {
     "slide_type": "-"
    }
   },
   "outputs": [],
   "source": [
    "plt.close('all')\n",
    "fig, (pix, b, w) = plt.subplots(1,3, figsize=(18,5))\n",
    "\n",
    "pix = plot_pixel(pix)\n",
    "bar = plot_bar(b)\n",
    "\n",
    "b.yaxis.tick_right()\n",
    "b.set_ylabel(\" \")\n",
    "\n",
    "L = sinusoid(frequency=original_frequency, amplitude=original_amplitude, phase=original_phase)\n",
    "\n",
    "\n",
    "wav = plot_waveform(w, L, times, plot_frames=True, plot_wave=True)\n",
    "w.yaxis.set_label_position(\"right\")\n",
    "w.yaxis.set_ticklabels([])\n",
    "w.set_ylim(-original_amplitude*1.1,original_amplitude*1.1)\n",
    "\n",
    "dot, trace = plot_trace(w)\n",
    "\n",
    "display(HTML(FuncAnimation(fig, anim_pix_bar_trace_wav, fargs=(pix, bar, dot, trace, wav, times, L), blit=True, frames=len(L), interval=1000/sampling_rate).to_jshtml()))\n",
    "plt.close()"
   ]
  },
  {
   "cell_type": "markdown",
   "metadata": {
    "hide_input": false,
    "slideshow": {
     "slide_type": "slide"
    }
   },
   "source": [
    "### Parameters of sinusoidal signals\n",
    "- **amplitude**: how much the signal maximally deviates from the baseline\n",
    "- **frequency**: number of periods per unit-time\n",
    "- **phase**: where in the cycle it starts\n",
    "- **mean**: an offset, or the baseline value around which the signal oscilates."
   ]
  },
  {
   "cell_type": "markdown",
   "metadata": {
    "slideshow": {
     "slide_type": "notes"
    }
   },
   "source": [
    "We can change these parameters of this sinusoidal signal.\n",
    "\n",
    "Using the widget here,\n",
    "see how changing each parameter changes the waveform.\n",
    "\n",
    "What do you expect this to look like?\n",
    "Does it match your expectations?"
   ]
  },
  {
   "cell_type": "code",
   "execution_count": null,
   "metadata": {
    "hide_input": false,
    "slideshow": {
     "slide_type": "skip"
    }
   },
   "outputs": [],
   "source": [
    "# TODO: GENERATE ANIMATIONS HERE\n",
    "def sinusoid_params(frequency=original_frequency, amplitude=original_amplitude, phase=original_phase, mean=0):\n",
    "    # Generate sinusoid\n",
    "    L = sinusoid(frequency=original_frequency, amplitude=original_amplitude, phase=original_phase)\n",
    "    s = sinusoid(frequency=frequency, amplitude=amplitude, phase=phase, mean=mean)\n",
    "\n",
    "    # Plot\n",
    "    plt.figure(figsize=(16, 4))\n",
    "    plt.plot(times, L, \"k:\", label=\"original\")\n",
    "    plt.ylim(-2,2)\n",
    "    plt.plot(times, s)\n",
    "    plt.xlabel(\"Time (s)\")"
   ]
  },
  {
   "cell_type": "code",
   "execution_count": null,
   "metadata": {
    "hide_input": false,
    "scrolled": false,
    "slideshow": {
     "slide_type": "fragment"
    }
   },
   "outputs": [],
   "source": [
    "widgets.interactive(sinusoid_params, frequency=(0, sampling_rate/2, 1/duration), amplitude=(0, 2, 0.1), phase=(0,360,30), mean=(-1,1,0.1))"
   ]
  },
  {
   "cell_type": "markdown",
   "metadata": {
    "slideshow": {
     "slide_type": "notes"
    }
   },
   "source": [
    "You should observe that you can directly link the parameters of the sinusoidal signal waveform\n",
    "to the flickering of the light:\n",
    "- The amplitude determines the (maximum) _contrast_ at which the light flickers -- lower amplitude means lower contrast flicker, higher amplitude means higher contrast\n",
    "- The frequency determines the speed at which it flickers -- lower frequency means it takes longer to flicker the whole contrast range, higher frequency means it flickers faster\n",
    "- The phase determines the starting contrast\n",
    "- The mean determines the background/pedestal that the light flickers on -- mean $=0$ means the light flickers around the background luminance; if the the mean $\\neq0$, then the contrast is modulated around some pedestal luminance."
   ]
  },
  {
   "cell_type": "markdown",
   "metadata": {
    "slideshow": {
     "slide_type": "slide"
    }
   },
   "source": [
    "## Frequency-domain description of a signal: Fourier transform\n",
    "When we have a signal like this we can describe it as having some frequency, some amplitude, and some phase.\n",
    "To describe our signal waveform in this way, we can apply the _Fourier transform_,\n",
    "which analyzes a signal and describes it as one or more _frequency components_."
   ]
  },
  {
   "cell_type": "code",
   "execution_count": null,
   "metadata": {
    "slideshow": {
     "slide_type": "skip"
    }
   },
   "outputs": [],
   "source": [
    "L = sinusoid(frequency=original_frequency, phase=original_phase, amplitude=original_amplitude, length=duration, sampling_rate=sampling_rate)"
   ]
  },
  {
   "cell_type": "markdown",
   "metadata": {
    "slideshow": {
     "slide_type": "-"
    }
   },
   "source": [
    "Most (scientific) programming languages implement the _Fast Fourier Transform (FFT)_ algorithm to do this:"
   ]
  },
  {
   "cell_type": "code",
   "execution_count": null,
   "metadata": {
    "slideshow": {
     "slide_type": "-"
    }
   },
   "outputs": [],
   "source": [
    "FL = fft(L)\n",
    "FL = FL.round()"
   ]
  },
  {
   "cell_type": "markdown",
   "metadata": {
    "slideshow": {
     "slide_type": "subslide"
    }
   },
   "source": [
    "The output of the Fourier transform is an array of complex numbers, of the same length as our original waveform."
   ]
  },
  {
   "cell_type": "code",
   "execution_count": null,
   "metadata": {
    "hide_input": true,
    "scrolled": false,
    "slideshow": {
     "slide_type": "-"
    }
   },
   "outputs": [],
   "source": [
    "print(FL)"
   ]
  },
  {
   "cell_type": "code",
   "execution_count": null,
   "metadata": {
    "hide_input": true,
    "slideshow": {
     "slide_type": "-"
    }
   },
   "outputs": [],
   "source": [
    "print(f\"Fourier-transform FL of our signal L is of type {FL.dtype}\")\n",
    "print(f\"{len(L)} samples in our original signal\")\n",
    "print(f\"{len(FL)} components in the Fourier transform of our signal\")\n",
    "\n",
    "assert L.shape == FL.shape"
   ]
  },
  {
   "cell_type": "markdown",
   "metadata": {
    "slideshow": {
     "slide_type": "notes"
    }
   },
   "source": [
    "Each entry in this Fourier transform corresponds to a component with a specific frequency.\n",
    "For each of these frequency components,\n",
    "the complex number encodes the amplitude and phase\n",
    "with which it appears in our signal."
   ]
  },
  {
   "cell_type": "markdown",
   "metadata": {
    "slideshow": {
     "slide_type": "subslide"
    }
   },
   "source": [
    "### Complex numbers encode two (separate) pieces of information\n",
    "A complex number can be consider a point (vector) in the 2D complex plane:"
   ]
  },
  {
   "cell_type": "code",
   "execution_count": null,
   "metadata": {
    "cell_style": "center",
    "slideshow": {
     "slide_type": "-"
    }
   },
   "outputs": [],
   "source": [
    "complex_number = 2 + 3j"
   ]
  },
  {
   "cell_type": "code",
   "execution_count": null,
   "metadata": {
    "cell_style": "split",
    "hide_input": true
   },
   "outputs": [],
   "source": [
    "fig = plt.figure(figsize=(5,5))\n",
    "plt.plot([0, complex_number.real], [0, complex_number.imag], marker=\"<\")\n",
    "plt.plot([0, complex_number.real],[complex_number.imag]*2, color=\"C0\", linestyle=\":\")\n",
    "plt.plot([complex_number.real]*2,[0,complex_number.imag], color=\"C0\", linestyle=\":\")\n",
    "\n",
    "plt.xlabel(\"Real part\")\n",
    "plt.ylabel(\"Imaginary part (j)\")\n",
    "plt.xlim(-1, 4)\n",
    "plt.ylim(-1, 4)\n",
    "plt.axhline(y=0, color=\"k\")\n",
    "plt.axvline(x=0, color=\"k\")\n",
    "\n",
    "plt.show()"
   ]
  },
  {
   "cell_type": "markdown",
   "metadata": {
    "cell_style": "split",
    "slideshow": {
     "slide_type": "fragment"
    }
   },
   "source": [
    "We can derive two aspects of the frequency component from such a complex number:\n",
    " - its amplitude, as the magnitude (absolute value) of the complex number\n",
    " $$amplitude = |z| = \\sqrt{real^2  + imaginary^2}$$\n",
    " - its phase, as the angle of the complex number"
   ]
  },
  {
   "cell_type": "markdown",
   "metadata": {
    "slideshow": {
     "slide_type": "slide"
    }
   },
   "source": [
    "### Describing frequency components"
   ]
  },
  {
   "cell_type": "markdown",
   "metadata": {
    "slideshow": {
     "slide_type": "notes"
    }
   },
   "source": [
    "Let's look just at the amplitudes:\n",
    "We'll take our Fourier transform, and convert it to an amplitude spectrum.\n",
    "Since the amplitude of each frequency component is\n",
    "encoded as the magnitude of the complex number,\n",
    "we can get the amplitude spectrum as the absolute values\n",
    "of the complex entries"
   ]
  },
  {
   "cell_type": "code",
   "execution_count": null,
   "metadata": {
    "scrolled": true,
    "slideshow": {
     "slide_type": "-"
    }
   },
   "outputs": [],
   "source": [
    "amplitude_spectrum = abs(FL)"
   ]
  },
  {
   "cell_type": "code",
   "execution_count": null,
   "metadata": {
    "cell_style": "split",
    "hide_input": true,
    "scrolled": true,
    "slideshow": {
     "slide_type": "fragment"
    }
   },
   "outputs": [],
   "source": [
    "print(amplitude_spectrum)"
   ]
  },
  {
   "cell_type": "code",
   "execution_count": null,
   "metadata": {
    "cell_style": "split",
    "hide_input": true,
    "slideshow": {
     "slide_type": "fragment"
    }
   },
   "outputs": [],
   "source": [
    "plt.figure()\n",
    "plt.stem(np.abs(FL))\n",
    "plt.xlabel(\"Frequency component #\")\n",
    "plt.ylabel(\"Amplitude\")\n",
    "plt.show()"
   ]
  },
  {
   "cell_type": "markdown",
   "metadata": {
    "slideshow": {
     "slide_type": "notes"
    }
   },
   "source": [
    "We see two peaks, which means two _frequency components_\n",
    "have a high(est) amplitude.\n",
    "Let's find out what the first of these is:"
   ]
  },
  {
   "cell_type": "code",
   "execution_count": null,
   "metadata": {
    "slideshow": {
     "slide_type": "fragment"
    }
   },
   "outputs": [],
   "source": [
    "peak_frequency_idx = argmax(amplitude_spectrum)"
   ]
  },
  {
   "cell_type": "code",
   "execution_count": null,
   "metadata": {
    "hide_input": true,
    "slideshow": {
     "slide_type": "fragment"
    }
   },
   "outputs": [],
   "source": [
    "print(f\"Maximum amplitude is for frequency component with index {peak_frequency_idx}\")"
   ]
  },
  {
   "cell_type": "markdown",
   "metadata": {
    "slideshow": {
     "slide_type": "subslide"
    }
   },
   "source": [
    "#### Frequency information\n",
    "To figure out what frequency this component has\n",
    "we can use the `fftfreq()` function,\n",
    "which gives a vector of the frequencies extracted\n",
    "for given a number of samples and the sampling interval\n",
    "(sampling interval, i.e., the interval between samples,\n",
    " can be calculated as unit-time divided by sampling rate,\n",
    " i.e., the inverse of sampling rate)"
   ]
  },
  {
   "cell_type": "code",
   "execution_count": null,
   "metadata": {
    "cell_style": "center",
    "slideshow": {
     "slide_type": "fragment"
    }
   },
   "outputs": [],
   "source": [
    "freqs = fftfreq(len(L), d=(1/sampling_rate))"
   ]
  },
  {
   "cell_type": "code",
   "execution_count": null,
   "metadata": {
    "cell_style": "center",
    "hide_input": true,
    "slideshow": {
     "slide_type": "fragment"
    }
   },
   "outputs": [],
   "source": [
    "print(freqs)"
   ]
  },
  {
   "cell_type": "markdown",
   "metadata": {
    "cell_style": "center",
    "hide_input": true,
    "slideshow": {
     "slide_type": "notes"
    }
   },
   "source": [
    "These frequencies are expressed in cycles per unit\n",
    "-- per unit-time in our case, i.e. cycles-per-second (fps), or Hz."
   ]
  },
  {
   "cell_type": "code",
   "execution_count": null,
   "metadata": {
    "slideshow": {
     "slide_type": "subslide"
    }
   },
   "outputs": [],
   "source": [
    "peak_frequency = freqs[argmax(amplitude_spectrum)]"
   ]
  },
  {
   "cell_type": "code",
   "execution_count": null,
   "metadata": {
    "hide_input": true,
    "slideshow": {
     "slide_type": "-"
    }
   },
   "outputs": [],
   "source": [
    "print(f\"The maximum amplitude in our signal is for frequency {peak_frequency:.1f} Hz\")\n",
    "\n",
    "assert peak_frequency == original_frequency"
   ]
  },
  {
   "cell_type": "code",
   "execution_count": null,
   "metadata": {
    "hide_input": true,
    "slideshow": {
     "slide_type": "-"
    }
   },
   "outputs": [],
   "source": [
    "plt.figure()\n",
    "plt.stem(freqs, amplitude_spectrum)\n",
    "plt.ylabel(\"Amplitude\")\n",
    "plt.xlabel(\"Frequency (Hz)\")\n",
    "plt.show()"
   ]
  },
  {
   "cell_type": "markdown",
   "metadata": {
    "slideshow": {
     "slide_type": "fragment"
    }
   },
   "source": [
    "- Fourier transform describes both positive and _negative_ frequencies\n",
    "- For real signals, these will always be mirror symmetric around the origin ($0$)\n",
    "- Thus, we also have a peak in amplitude spectrum at negative frequency component"
   ]
  },
  {
   "cell_type": "markdown",
   "metadata": {
    "slideshow": {
     "slide_type": "notes"
    }
   },
   "source": [
    "We can also see now why we have two peaks in the amplitude spectrum.\n",
    "The Fourier transform extracts both positive and _negative_ frequencies.\n",
    "While in the real world negative frequencies don't make a lot of sense,\n",
    "mathematically they're just as valid as positive frequencies.\n",
    "Thus, the Fourier transform needs to return both of these\n",
    "to give a full mathematical transformation of the signal into the frequency domain.\n",
    "\n",
    "In our cases, the positive and negative frequencies\n",
    "will always be mirror symmetric around the origin ($0$).\n",
    "We can see that our other peak is at the negative of the frequency that we put in.\n",
    "\n",
    "You could plot just the positive frequencies,\n",
    "but convention is mostly to plot both."
   ]
  },
  {
   "cell_type": "markdown",
   "metadata": {
    "slideshow": {
     "slide_type": "subslide"
    }
   },
   "source": [
    "##### FFT shift\n",
    "We can also see that in the output of the FFT, the positive frequencies are listed first, followed by the negative frequencies. When we plot them, that does not matter much, because the plotting function automatically sorts the axis in this case. However, it's nicer to rearrange this output list of frequencies, for which we can use the `fftshift()` function -- which we then also have to do for our spectrum."
   ]
  },
  {
   "cell_type": "code",
   "execution_count": null,
   "metadata": {
    "slideshow": {
     "slide_type": "-"
    }
   },
   "outputs": [],
   "source": [
    "freqs = fftshift(freqs)\n",
    "FL = fftshift(FL)\n",
    "amplitude_spectrum = fftshift(amplitude_spectrum)"
   ]
  },
  {
   "cell_type": "code",
   "execution_count": null,
   "metadata": {
    "cell_style": "split",
    "hide_input": true,
    "slideshow": {
     "slide_type": "-"
    }
   },
   "outputs": [],
   "source": [
    "print(fftfreq(len(L), d=(1/sampling_rate)))"
   ]
  },
  {
   "cell_type": "code",
   "execution_count": null,
   "metadata": {
    "cell_style": "split",
    "hide_input": true,
    "slideshow": {
     "slide_type": "fragment"
    }
   },
   "outputs": [],
   "source": [
    "print(freqs)"
   ]
  },
  {
   "cell_type": "markdown",
   "metadata": {
    "slideshow": {
     "slide_type": "slide"
    }
   },
   "source": [
    "#### Amplitude\n",
    "Let's look at the amplitude of our signal.\n",
    "Since we're looking at an amplitude spectrum,\n",
    "the height (y-value) of our peak should be the amplitude of our original signal, right?"
   ]
  },
  {
   "cell_type": "code",
   "execution_count": null,
   "metadata": {
    "hide_input": true,
    "slideshow": {
     "slide_type": "fragment"
    }
   },
   "outputs": [],
   "source": [
    "print(f\"Recovered amplitude = {np.max(amplitude_spectrum):.1f} (original = {original_amplitude:.1f})\")"
   ]
  },
  {
   "cell_type": "markdown",
   "metadata": {
    "hide_input": true,
    "slideshow": {
     "slide_type": "fragment"
    }
   },
   "source": [
    "This doesn't match. Instead, the recovered amplitude is half the number of samples times higher..."
   ]
  },
  {
   "cell_type": "code",
   "execution_count": null,
   "metadata": {
    "hide_input": true,
    "slideshow": {
     "slide_type": "fragment"
    }
   },
   "outputs": [],
   "source": [
    "print(f\"{duration}s * {sampling_rate}fps = {len(L)} frames (= samples)\")"
   ]
  },
  {
   "cell_type": "markdown",
   "metadata": {
    "slideshow": {
     "slide_type": "notes"
    }
   },
   "source": [
    "The amplitude of each frequency component in the Fourier transform,\n",
    "is the *total amplitude* over the whole signal,\n",
    "i.e. the integrated (summed) amplitude over the number of samples in the signal.\n",
    "\n",
    "The amplitude that we defined earlier, is the *peak amplitude*,\n",
    "i.e., the maximum deviation from 0 that the signal will take each period.\n",
    "\n",
    "For sinusoidal signals, the integrated amplitude,\n",
    "is the peak amplitude times the total number of samples.\n",
    "Conversely, for the sinusoidal frequency components represented in an amplitude spectrum,\n",
    "we can get the peak amplitude by dividing the amplitude spectrum by the number of samples:"
   ]
  },
  {
   "cell_type": "markdown",
   "metadata": {
    "slideshow": {
     "slide_type": "subslide"
    }
   },
   "source": [
    "Convention is thus to divide amplitude spectrum by the total number of samples"
   ]
  },
  {
   "cell_type": "code",
   "execution_count": null,
   "metadata": {
    "slideshow": {
     "slide_type": "fragment"
    }
   },
   "outputs": [],
   "source": [
    "peak_amplitudes = amplitude_spectrum / (duration*sampling_rate)"
   ]
  },
  {
   "cell_type": "code",
   "execution_count": null,
   "metadata": {
    "hide_input": true,
    "slideshow": {
     "slide_type": "fragment"
    }
   },
   "outputs": [],
   "source": [
    "print(peak_amplitudes)"
   ]
  },
  {
   "cell_type": "markdown",
   "metadata": {
    "slideshow": {
     "slide_type": "notes"
    }
   },
   "source": [
    "But wait, now the peak amplitude seems to be half our original amplitude? Remember that we have both the positive *and* the negative frequency components: what we think of as a single signal with a positive frequency and some amplitude, the Fourier transform considers to be a combination of a positive and negative frequency component, which then each \"get\" half the peak amplitude."
   ]
  },
  {
   "cell_type": "code",
   "execution_count": null,
   "metadata": {
    "hide_input": true,
    "slideshow": {
     "slide_type": "fragment"
    }
   },
   "outputs": [],
   "source": [
    "plt.figure()\n",
    "plt.stem(freqs, peak_amplitudes)\n",
    "plt.ylabel(\"Peak amplitude\")\n",
    "plt.xlabel(\"Frequency (Hz)\")\n",
    "plt.show()"
   ]
  },
  {
   "cell_type": "code",
   "execution_count": null,
   "metadata": {
    "slideshow": {
     "slide_type": "skip"
    }
   },
   "outputs": [],
   "source": [
    "assert peak_amplitudes.sum() == original_amplitude"
   ]
  },
  {
   "cell_type": "markdown",
   "metadata": {
    "slideshow": {
     "slide_type": "notes"
    }
   },
   "source": [
    "This makes sense now:\n",
    "we see the peak amplitude with which we created our original signal,\n",
    "at the frequency of our sinusoid\n",
    "(and at its negative complement)"
   ]
  },
  {
   "cell_type": "markdown",
   "metadata": {
    "slideshow": {
     "slide_type": "subslide"
    }
   },
   "source": [
    "#### Exploring amplitude spectra"
   ]
  },
  {
   "cell_type": "markdown",
   "metadata": {
    "slideshow": {
     "slide_type": "notes"
    }
   },
   "source": [
    "Use the widget to change the frequency and amplitude\n",
    "of the signal.\n",
    "\n",
    "How do you expect the amplitude spectrum to change?\n",
    "Does it match your expectations?"
   ]
  },
  {
   "cell_type": "code",
   "execution_count": null,
   "metadata": {
    "hide_input": true,
    "slideshow": {
     "slide_type": "fragment"
    }
   },
   "outputs": [],
   "source": [
    "def plot_sinusoids(frequency=original_frequency, amplitude=original_amplitude, phase=original_phase, mean=0):\n",
    "    # Generate sinusoid\n",
    "    s = sinusoid(frequency=frequency, amplitude=amplitude, phase=phase, mean=mean)\n",
    "    L = sinusoid(frequency=original_frequency, amplitude=original_amplitude, phase=original_phase)\n",
    "    \n",
    "\n",
    "    # Transform\n",
    "    freqs = fftshift(fftfreq(len(times), d=(1/sampling_rate)))\n",
    "    Fs = fftshift(fft(s)).round()\n",
    "    amplitude_spectrum = np.abs(Fs)\n",
    "    peak_amplitudes = amplitude_spectrum / (duration*sampling_rate)\n",
    "    \n",
    "    # Plot\n",
    "    fig, (ax_wav, ax_amp) = plt.subplots(1,2, figsize=(16, 5))\n",
    "    ax_wav.plot(times, L, \"k:\", label=\"original\")\n",
    "    ax_wav.set_ylim(-2,2)\n",
    "    ax_wav.plot(times, s)\n",
    "    ax_wav.set_xlabel(\"Time (s)\")\n",
    "    \n",
    "    ax_amp.stem(freqs, peak_amplitudes)\n",
    "    ax_amp.set_ylim(0,2)\n",
    "    ax_amp.axvline(original_frequency, linestyle=\":\", color=\"k\")\n",
    "    ax_amp.axvline(-original_frequency, linestyle=\":\", color=\"k\")\n",
    "    ax_amp.axhline(original_amplitude/2, linestyle=\":\", color=\"k\")\n",
    "    ax_amp.set_ylabel(\"Peak amplitude\")\n",
    "    ax_amp.yaxis.tick_right()\n",
    "    ax_amp.yaxis.set_label_position(\"right\")\n",
    "    ax_amp.set_xlabel(\"Frequency (Hz)\")\n",
    "\n",
    "interactive_plot = widgets.interactive(plot_sinusoids, frequency=(0, sampling_rate/2, sampling_rate/len(L)), amplitude=(0, 2, 0.1), phase=(0,360,30), mean=(-1,1,0.1))\n",
    "output = interactive_plot.children[-1]\n",
    "output.layout.height = '350px'\n",
    "interactive_plot"
   ]
  },
  {
   "cell_type": "markdown",
   "metadata": {
    "slideshow": {
     "slide_type": "fragment"
    }
   },
   "source": [
    "- Frequency of the input signal changes where the peak in the amplitude spectrum is. Increasing the frequency moves the peak to the right (and the negative frequency peak to the left, i.e., pushes them apart).\n",
    "- Amplitude of the singal changes the height of the peak.\n",
    "- Phase does not change the amplitude spectrum."
   ]
  },
  {
   "cell_type": "markdown",
   "metadata": {
    "slideshow": {
     "slide_type": "subslide"
    }
   },
   "source": [
    "#### 0 Hz frequency\n",
    "The component at 0 Hz is often called the _direct current_ or _DC_ component.\n",
    "It's the remaining \"signal\" when there is no oscillation;\n",
    "it's the total integrated sum of the signal over the whole period;\n",
    "for a symmetric signal like a sinusoid, it is thus also the mean.\n",
    "\n",
    "Remember: in our example of a flashing light,\n",
    "the mean of that signal (the flashing) is the background/pedestal on which the flashing occurs.\n",
    "If we set our mean $=0$,\n",
    "then the contrast is modulated around the background luminance;\n",
    "if the the mean $\\neq0$, then the contrast is modulated around some pedestal luminance."
   ]
  },
  {
   "cell_type": "markdown",
   "metadata": {
    "hide_input": true,
    "slideshow": {
     "slide_type": "skip"
    }
   },
   "source": [
    "#### Power spectrum\n",
    "The _power spectrum_ is defined as the square of the amplitude spectrum:\n",
    "$$ power = amplitude^2 $$"
   ]
  },
  {
   "cell_type": "code",
   "execution_count": null,
   "metadata": {
    "hide_input": false,
    "slideshow": {
     "slide_type": "skip"
    }
   },
   "outputs": [],
   "source": [
    "power_spectrum = peak_amplitudes ** 2"
   ]
  },
  {
   "cell_type": "code",
   "execution_count": null,
   "metadata": {
    "hide_input": true,
    "slideshow": {
     "slide_type": "skip"
    }
   },
   "outputs": [],
   "source": [
    "plt.figure()\n",
    "plt.stem(freqs, power_spectrum)\n",
    "plt.xlabel(\"Frequency (Hz)\")\n",
    "plt.ylabel(\"Power\")\n",
    "plt.show()"
   ]
  },
  {
   "cell_type": "markdown",
   "metadata": {
    "slideshow": {
     "slide_type": "slide"
    }
   },
   "source": [
    "### Phase\n",
    "Phase information does not show up in the amplitude spectrum.\n",
    "As mentioned above, the complex-valued output of the Fourier transform\n",
    "captures the amplitude as the magnitude of the complex number,\n",
    "and the phase as the _angle_ of the complex number."
   ]
  },
  {
   "cell_type": "code",
   "execution_count": null,
   "metadata": {
    "slideshow": {
     "slide_type": "skip"
    }
   },
   "outputs": [],
   "source": [
    "L = sinusoid(frequency=original_frequency, amplitude=original_amplitude, phase=original_phase)\n",
    "FL = fftshift(fft(L).round())\n",
    "amplitudes = abs(FL)\n",
    "FL.imag[FL.imag==-0] = 0\n",
    "FL.real[FL.real==-0] = 0"
   ]
  },
  {
   "cell_type": "code",
   "execution_count": null,
   "metadata": {
    "slideshow": {
     "slide_type": "fragment"
    }
   },
   "outputs": [],
   "source": [
    "phases = rad2deg(angle(FL))"
   ]
  },
  {
   "cell_type": "code",
   "execution_count": null,
   "metadata": {
    "hide_input": true,
    "slideshow": {
     "slide_type": "fragment"
    }
   },
   "outputs": [],
   "source": [
    "phases = phases\n",
    "print(phases)"
   ]
  },
  {
   "cell_type": "code",
   "execution_count": null,
   "metadata": {
    "hide_input": true,
    "slideshow": {
     "slide_type": "fragment"
    }
   },
   "outputs": [],
   "source": [
    "print(f\"Peak frequency component has phase {abs(phases[np.argmax(amplitudes)]):.2f} degrees (original = {original_phase:.2f})\")"
   ]
  },
  {
   "cell_type": "markdown",
   "metadata": {
    "slideshow": {
     "slide_type": "subslide"
    }
   },
   "source": [
    "#### Phase spectrum"
   ]
  },
  {
   "cell_type": "code",
   "execution_count": null,
   "metadata": {
    "hide_input": true,
    "scrolled": false,
    "slideshow": {
     "slide_type": "-"
    }
   },
   "outputs": [],
   "source": [
    "def plot_sinusoids(frequency=original_frequency, amplitude=original_amplitude, phase=original_phase, mean=0):\n",
    "    # Generate sinusoid\n",
    "    L = sinusoid(frequency=original_frequency, amplitude=original_amplitude, phase=original_phase, mean=0)\n",
    "    s = sinusoid(frequency=frequency, amplitude=amplitude, phase=phase, mean=mean)\n",
    "    \n",
    "    # Transform\n",
    "    freqs = fftshift(fftfreq(len(times), d=(1/sampling_rate)))\n",
    "    Fs = fftshift(fft(s)).round()\n",
    "    Fs.imag[Fs.imag==-0] = 0\n",
    "    Fs.real[Fs.real==-0] = 0\n",
    "    phases = np.rad2deg(np.angle(Fs.round()))\n",
    "    amplitude_spectrum = np.abs(Fs)\n",
    "    \n",
    "    # Plot\n",
    "    fig, (ax_wav, ax_phase) = plt.subplots(1,2, figsize=(16, 5))\n",
    "    ax_wav.plot(times, L, \"k:\", label=\"original\")\n",
    "    ax_wav.set_ylim(-2,2)\n",
    "    ax_wav.plot(times, s)\n",
    "    ax_wav.set_xlabel(\"Time (s)\")\n",
    "    \n",
    "    ax_phase.stem(freqs, phases)\n",
    "    ax_phase.set_ylim(-180,180)\n",
    "    ax_phase.set_ylabel(\"Phase (degrees)\")\n",
    "    ax_phase.yaxis.tick_right()\n",
    "    ax_phase.yaxis.set_label_position(\"right\")\n",
    "    ax_phase.set_xlabel(\"Frequency (Hz)\")\n",
    "    \n",
    "interactive_plot = widgets.interactive(plot_sinusoids, frequency=(0, sampling_rate/2, sampling_rate/len(L)), amplitude=(0, 2, 0.1), phase=(0,360, 30), mean=(-1,1,0.1))\n",
    "output = interactive_plot.children[-1]\n",
    "output.layout.height = '350px'\n",
    "interactive_plot"
   ]
  },
  {
   "cell_type": "markdown",
   "metadata": {
    "slideshow": {
     "slide_type": "fragment"
    }
   },
   "source": [
    "- DC component: if positive gets $phase = 0$; if negative: $phase = (-)180$"
   ]
  },
  {
   "cell_type": "markdown",
   "metadata": {
    "slideshow": {
     "slide_type": "slide"
    }
   },
   "source": [
    "## Signal resolution: important limitations on digital signal processing\n",
    "Two aspects of our signal and its Fourier transform that we haven't addressed so far,\n",
    "are\n",
    "- the sampling rate: the number of samples or frames per second)\n",
    "- the length: the number of samples in total, or the duration"
   ]
  },
  {
   "cell_type": "code",
   "execution_count": null,
   "metadata": {
    "hide_input": true,
    "slideshow": {
     "slide_type": "fragment"
    }
   },
   "outputs": [],
   "source": [
    "def plot_sinusoids(sampling_rate=sampling_rate, duration=duration):\n",
    "    # Generate timebase\n",
    "    times = np.linspace(start=0, stop=duration, num=int(sampling_rate*duration), endpoint=False)\n",
    "\n",
    "    # Generate sinusoid\n",
    "    s = sinusoid(frequency=original_frequency, amplitude=original_amplitude, phase=original_phase, mean=0, length=duration, sampling_rate=sampling_rate)\n",
    "\n",
    "    \n",
    "    # Plot\n",
    "    fig, ax_wav = plt.subplots(1,1, figsize=(16, 5))\n",
    "    ax_wav.set_ylim(-2,2)\n",
    "    ax_wav.plot(times, s, \"o:\")\n",
    "    ax_wav.set_xlabel(\"Time (s)\")\n",
    "\n",
    "plt.close('all')\n",
    "interactive_plot = widgets.interactive(plot_sinusoids, sampling_rate=(1,64), duration=(0.1,5,1/sampling_rate))\n",
    "#output = interactive_plot.children[-1]\n",
    "#output.layout.height = '350px'\n",
    "display(interactive_plot)\n",
    "plt.close()"
   ]
  },
  {
   "cell_type": "markdown",
   "metadata": {
    "slideshow": {
     "slide_type": "notes"
    }
   },
   "source": [
    "What you should observe,\n",
    "is that changing the sampling rate\n",
    "doesn't necessarily change any of the signal parameters\n",
    "(frequency, amplitude, phase).\n",
    "It does, however, change the smoothness, or precision, of the signal;\n",
    "the lower the sampling rate, the sharper/blockier the signal is.\n",
    "\n",
    "Similarly, changing the duration does not affect the signal parameters.\n",
    "Instead, it determines how much of our signal we see.\n",
    "Specifically, note that the number of full periods\n",
    "(where the signal has returned to its starting position)\n",
    "only happens when the $\\mathrm{duration} \\times \\mathrm{frequency}$ is an integer."
   ]
  },
  {
   "cell_type": "markdown",
   "metadata": {
    "slideshow": {
     "slide_type": "subslide"
    }
   },
   "source": [
    "- $\\mathrm{number\\ of\\ samples}$ changes with both $\\mathrm{sampling\\ rate}$ and $\\mathrm{duration}$\n",
    "- output of DFT is same length as input signal\n",
    "- i.e., $\\mathrm{number\\ of\\ frequency\\ components} = \\mathrm{number\\ of\\ samples}$"
   ]
  },
  {
   "cell_type": "markdown",
   "metadata": {
    "slideshow": {
     "slide_type": "notes"
    }
   },
   "source": [
    "What does change with both the $\\mathrm{sampling\\ rate}$ and the $\\mathrm{duration}$\n",
    "is the total $\\mathrm{number\\ of\\ samples}$.\n",
    "This is relevant, because the output of the FFT is the same length as the input.\n",
    "In other words, the Discrete Fourier Transform (DFT) describes the signal in a number of $\\mathrm{frequency\\ components}$ in the frequency domain\n",
    "that is equal to the $\\mathrm{number\\ of\\ samples}$ in the original (time) domain."
   ]
  },
  {
   "cell_type": "code",
   "execution_count": null,
   "metadata": {
    "slideshow": {
     "slide_type": "skip"
    }
   },
   "outputs": [],
   "source": [
    "assert len(FL) == len(L)"
   ]
  },
  {
   "cell_type": "markdown",
   "metadata": {
    "slideshow": {
     "slide_type": "notes"
    }
   },
   "source": [
    "Thus, which frequency components we can identify in our signal,\n",
    "depends on the number of samples.\n",
    "\n",
    "Let's take a look at the frequencies in our original Fourier transform:"
   ]
  },
  {
   "cell_type": "code",
   "execution_count": null,
   "metadata": {
    "cell_style": "split",
    "hide_input": true,
    "slideshow": {
     "slide_type": "fragment"
    }
   },
   "outputs": [],
   "source": [
    "print(freqs)"
   ]
  },
  {
   "cell_type": "markdown",
   "metadata": {
    "cell_style": "split",
    "slideshow": {
     "slide_type": "fragment"
    }
   },
   "source": [
    "- range between $ \\pm \\frac{sampling\\ rate}{2} \\mathrm{Hz}$\n",
    "- ${\\#\\ samples} = {\\#\\ frequency\\ components}$\n",
    "- so whole range of ${sampling\\ rate}$ gets divided into ${\\#\\ samples}$\n",
    "- giving steps of $ \\frac{sampling\\ rate}{\\#\\ samples} = \\frac{sampling\\ rate}{sampling\\ rate\\ \\times\\ duration} = \\frac{1}{duration}\\ \\mathrm{Hz}$\n",
    "- smallest nonzero frequency is a single step: $ \\pm \\frac{sampling\\ rate}{\\# \\ samples} = \\pm \\frac{1}{duration}$"
   ]
  },
  {
   "cell_type": "code",
   "execution_count": null,
   "metadata": {
    "slideshow": {
     "slide_type": "skip"
    }
   },
   "outputs": [],
   "source": [
    "assert np.allclose(np.linspace(-(sampling_rate/2), sampling_rate/2-1/duration, len(L)), freqs)"
   ]
  },
  {
   "cell_type": "code",
   "execution_count": null,
   "metadata": {
    "hide_input": true,
    "slideshow": {
     "slide_type": "fragment"
    }
   },
   "outputs": [],
   "source": [
    "def frequencies(sampling_rate, duration):\n",
    "    n_samples = int(duration * sampling_rate)\n",
    "    max_freq = sampling_rate/2\n",
    "    smallest_freq = sampling_rate / n_samples\n",
    "    print(f\"{n_samples} freq. components, between +-[{smallest_freq:.2f},{max_freq}] Hz, in steps of {smallest_freq:.2f} Hz\")\n",
    "    \n",
    "w = widgets.interactive(frequencies, sampling_rate=(1,64,1), duration=(0,5,0.1))\n",
    "display(w)"
   ]
  },
  {
   "cell_type": "markdown",
   "metadata": {
    "slideshow": {
     "slide_type": "slide"
    }
   },
   "source": [
    "#### Maximum frequency, and beyond\n",
    "- Nyquist limit = highest frequency component = $\\frac{sampling\\ rate}{2}$\n",
    "- Limitation of discrete signals (not just DFT)"
   ]
  },
  {
   "cell_type": "markdown",
   "metadata": {
    "slideshow": {
     "slide_type": "notes"
    }
   },
   "source": [
    "As you can see, the highest frequency component that the DFT can consider, is $\\frac{sampling\\ rate}{2}$, which is called the Nyquist frequency. This is not just a limitation of the DFT, but a limitation of discrete signals with a finite sampling rate in general. As the frequency increases, there are fewer and fewer samples per period of the signal. As a result, each period will look blockier, which can lead to some ugly artefacts."
   ]
  },
  {
   "cell_type": "markdown",
   "metadata": {
    "slideshow": {
     "slide_type": "notes"
    }
   },
   "source": [
    "Use this widget to play around with signal frequency, signal frequency, and phase\n",
    "\n",
    "Note specifically what happens when the frequency of the signal is the Nyquist limit, or above."
   ]
  },
  {
   "cell_type": "code",
   "execution_count": null,
   "metadata": {
    "hide_input": true,
    "scrolled": false,
    "slideshow": {
     "slide_type": "fragment"
    }
   },
   "outputs": [],
   "source": [
    "def plot_two(sampling_rate = sampling_rate, frequency=3, phase=0):\n",
    "    duration = 1\n",
    "    nyquist = sampling_rate / 2\n",
    "    alias_freq = nyquist-(frequency-nyquist) if frequency > nyquist else frequency\n",
    "    \n",
    "    # Generate sinusoids\n",
    "    actual = sinusoid(length=duration, sampling_rate=10*sampling_rate, frequency=frequency, phase=phase)\n",
    "    alias = sinusoid(length=duration, sampling_rate=sampling_rate, frequency=alias_freq, phase=phase)\n",
    "    \n",
    "    # Generate corresponding timebases\n",
    "    times_low = np.linspace(start=0, stop=duration, num=int(sampling_rate*duration), endpoint=False)\n",
    "    times_high = np.linspace(start=0, stop=duration, num=int(10*sampling_rate*duration), endpoint=False)\n",
    "    \n",
    "    # Plot\n",
    "    print(f\"Nyquist limit = {sampling_rate/2}\")\n",
    "    plt.figure(figsize=(16,5))\n",
    "    plt.plot(times_high, actual, \"C1:\", label=f\"{frequency:.2f} Hz\")\n",
    "    plt.plot(times_low, alias, \"C0o-\", label=f\"{alias_freq:.2f} Hz\")\n",
    "    plt.legend()\n",
    "    plt.ylim(-2,2)\n",
    "    plt.xlabel(\"Time (s)\")\n",
    "\n",
    "# Setup widgets, that can depend on each other\n",
    "sr_slider = widgets.IntSlider(min=1, value=32, max=64)\n",
    "freq_slider = widgets.FloatSlider(min=0, value=2, max=sr_slider.value, step=1)\n",
    "def update_f(*args):\n",
    "    freq_slider.max = sr_slider.value\n",
    "sr_slider.observe(update_f)\n",
    "\n",
    "# Link widgets to function\n",
    "widgets.interactive(plot_two, sampling_rate=sr_slider, frequency=freq_slider, phase=(0,360,15))"
   ]
  },
  {
   "cell_type": "markdown",
   "metadata": {
    "slideshow": {
     "slide_type": "fragment"
    }
   },
   "source": [
    "- _Aliasing_: frequency $\\mathrm{Nyquist}+N$ looks like $\\mathrm{Nyquist}-N$"
   ]
  },
  {
   "cell_type": "markdown",
   "metadata": {
    "slideshow": {
     "slide_type": "notes"
    }
   },
   "source": [
    "This effect is called _aliasing_: a frequency beyond the resolution (sampling rate) of our analysis window, gets _aliased_ as a lower frequency. Since the waveform of the too-high frequency is identical to that of the waveform of a frequency it gets aliased as, its Fourier transform will necessarily also be identical."
   ]
  },
  {
   "cell_type": "markdown",
   "metadata": {
    "hide_input": true,
    "slideshow": {
     "slide_type": "slide"
    }
   },
   "source": [
    "#### Falling between the frequency gaps"
   ]
  },
  {
   "cell_type": "markdown",
   "metadata": {
    "cell_style": "split",
    "slideshow": {
     "slide_type": "-"
    }
   },
   "source": [
    "- ${\\#\\ frequency\\ components} = {\\#\\ samples}$\n",
    "- so whole range of ${sampling\\ rate}$ gets divided into ${\\#\\ samples}$\n",
    "- giving steps of $ \\frac{sampling\\ rate}{\\#\\ samples} = \\frac{sampling\\ rate}{sampling\\ rate\\ \\times\\ duration} = \\frac{1}{duration}\\ \\mathrm{Hz}$\n",
    "- smallest nonzero frequency is a single step: $ \\pm \\frac{sampling\\ rate}{\\# \\ samples} = \\pm \\frac{1}{duration}$"
   ]
  },
  {
   "cell_type": "code",
   "execution_count": null,
   "metadata": {
    "cell_style": "split",
    "hide_input": true,
    "scrolled": true,
    "slideshow": {
     "slide_type": "-"
    }
   },
   "outputs": [],
   "source": [
    "print(freqs)"
   ]
  },
  {
   "cell_type": "markdown",
   "metadata": {
    "slideshow": {
     "slide_type": "notes"
    }
   },
   "source": [
    "We also saw that the set of frequencies that the DFT analyzes\n",
    "is determined by the total number of samples.\n",
    "Specifically, the number of frequency components (in the frequency domain)\n",
    "is equal to the number of samples (in the original (time) domain).\n",
    "The frequency components are equally spaced,\n",
    "such that they are $\\frac{sampling\\ rate}{\\#\\ samples} = \\frac{1}{duration}$ Hz apart.\n",
    "\n",
    "This is also why we need to put those pieces of information into `fftfreq`:\n",
    "```\n",
    "freqs = fftfreq(len(n_samples), d=(1/sampling_rate))\n",
    "```"
   ]
  },
  {
   "cell_type": "markdown",
   "metadata": {
    "slideshow": {
     "slide_type": "subslide"
    }
   },
   "source": [
    "Another way to think of this is that\n",
    "each frequency analyzed by the DFT is an integer multiple of the smallest possibe frequency,\n",
    "which is also called the _fundamental frequency_\n",
    "\n",
    "Intuitively: fundamental frequency as\n",
    "the frequency that has one full period, i.e., makes exactly one full cycle\n",
    "in the whole sample.\n",
    "Thus, it is $1$ cycle per $duration$, i.e., $\\frac{1}{duration}$\n",
    "(does not depend on the sampling rate)"
   ]
  },
  {
   "cell_type": "markdown",
   "metadata": {
    "slideshow": {
     "slide_type": "skip"
    }
   },
   "source": [
    "(https://www.princeton.edu/~cuff/ele201/kulkarni_text/frequency.pdf)"
   ]
  },
  {
   "cell_type": "code",
   "execution_count": null,
   "metadata": {
    "slideshow": {
     "slide_type": "-"
    }
   },
   "outputs": [],
   "source": [
    "fundamental_frequency = 1/duration"
   ]
  },
  {
   "cell_type": "code",
   "execution_count": null,
   "metadata": {
    "hide_input": true,
    "slideshow": {
     "slide_type": "-"
    }
   },
   "outputs": [],
   "source": [
    "print(f\"Fundamental frequency = 1 / {duration:.2f}s = {fundamental_frequency:.2f} Hz\")"
   ]
  },
  {
   "cell_type": "code",
   "execution_count": null,
   "metadata": {
    "slideshow": {
     "slide_type": "skip"
    }
   },
   "outputs": [],
   "source": [
    "assert fftfreq(len(times), d=(1/sampling_rate))[1] == fundamental_frequency"
   ]
  },
  {
   "cell_type": "code",
   "execution_count": null,
   "metadata": {
    "hide_input": true,
    "slideshow": {
     "slide_type": "fragment"
    }
   },
   "outputs": [],
   "source": [
    "fundamental_sinusoid = sinusoid(frequency=fundamental_frequency, phase=90)\n",
    "plt.figure(figsize=(5,5))\n",
    "plt.plot(times, fundamental_sinusoid)\n",
    "plt.xlabel('Time (s)')\n",
    "plt.title(f\"Sinusoid with fundamental frequency {fundamental_frequency:.2f} Hz, for duration {duration}s\")\n",
    "plt.show()"
   ]
  },
  {
   "cell_type": "markdown",
   "metadata": {
    "slideshow": {
     "slide_type": "subslide"
    }
   },
   "source": [
    "So the frequency components that the DFT will pick up on\n",
    "are integer multiples of the smallest (fundamental) frequency.\n",
    "But what if our signal has a frequency that isn't a nice integer multiple of the smallest frequency?"
   ]
  },
  {
   "cell_type": "code",
   "execution_count": null,
   "metadata": {
    "hide_input": false,
    "slideshow": {
     "slide_type": "-"
    }
   },
   "outputs": [],
   "source": [
    "frequency = 12.5 * fundamental_frequency"
   ]
  },
  {
   "cell_type": "code",
   "execution_count": null,
   "metadata": {
    "hide_input": true,
    "slideshow": {
     "slide_type": "-"
    }
   },
   "outputs": [],
   "source": [
    "# Generate sinusoid\n",
    "s = sinusoid(frequency=frequency)\n",
    "\n",
    "# Transform\n",
    "freqs = fftshift(fftfreq(len(times), d=(1/sampling_rate)))\n",
    "Fs = fftshift(fft(s)).round()\n",
    "Fs.real[Fs.real==-0] = 0\n",
    "Fs.imag[Fs.imag==-0] = 0\n",
    "phases = np.rad2deg(np.angle(Fs))\n",
    "\n",
    "amplitude_spectrum = np.abs(Fs)\n",
    "peak_amplitudes = amplitude_spectrum / (duration*sampling_rate)\n",
    "\n",
    "\n",
    "# Plot\n",
    "fig, (ax_wav, ax_amp, ax_phase) = plt.subplots(1,3, figsize=(16, 6))\n",
    "ax_wav.plot(times, s)\n",
    "ax_wav.set_xlabel(\"Time (s)\")\n",
    "ax_wav.set_ylim(-2,2)\n",
    "ax_wav.set_title(\"Waveform\")\n",
    "\n",
    "ax_amp.stem(freqs, peak_amplitudes)\n",
    "ax_amp.set_ylim(0,0.8*original_amplitude)\n",
    "ax_amp.set_ylabel(\"Peak amplitude\")\n",
    "ax_amp.yaxis.tick_right()\n",
    "ax_amp.yaxis.set_label_position(\"right\")\n",
    "ax_amp.set_xlabel(\"Frequency (Hz)\")\n",
    "ax_amp.set_title(\"Amplitude spectrum\")\n",
    "\n",
    "ax_phase.stem(freqs, phases)\n",
    "ax_phase.set_ylim(-180,180)\n",
    "ax_phase.set_ylabel(\"Phase (degrees)\")\n",
    "ax_phase.yaxis.tick_right()\n",
    "ax_phase.yaxis.set_label_position(\"right\")\n",
    "ax_phase.set_xlabel(\"Frequency (Hz)\")\n",
    "ax_phase.set_title(\"Phase spectrum\")\n",
    "\n",
    "plt.show()"
   ]
  },
  {
   "cell_type": "markdown",
   "metadata": {
    "slideshow": {
     "slide_type": "notes"
    }
   },
   "source": [
    "What you should observe is that that the peaks in the amplitude spectrum\n",
    "are no longer sharp, single points.\n",
    "Instead, two \"smeared out\" peaks appear: on centered on our positive frequency\n",
    "and a symmetric one centered on the negative version of our frequency.\n",
    "\n",
    "Since the DFT cannot neatly assign the amplitude in the signal\n",
    "to a single frequency component that its analyzing,\n",
    "it has to \"distribute\" the amplitude over a number of components\n",
    "mostly ones _near_ the signal frequency.\n",
    "\n",
    "This kind of smearing will happen any time the signal\n",
    "is not a perfect integer multiple of the fundamental frequency (i.e., $\\frac{1}{\\mathrm{duration}}$).\n",
    "Since most realistic signals are not pure sinewaves anyway,\n",
    "they will always show this kind of smearing."
   ]
  },
  {
   "cell_type": "markdown",
   "metadata": {
    "slideshow": {
     "slide_type": "subslide"
    }
   },
   "source": [
    "**Resolution of DFT is limited by number of samples in original signal**\n",
    "- Number of frequency components $=$ number of samples\n",
    "- Nyquist limit: highest frequency $= \\frac{sampling\\ rate}{2}$\n",
    "- Fundamental frequency: lowest (non-DC) frequency $= \\frac{1}{duration}$\n",
    "- All other frequency components are integer multiples of fundamental frequency.\n",
    "\n",
    "\n",
    "\n",
    "- Higher sampling rate: higher frequencies can be analyzed\n",
    "- Longer signal (more samples): more frequency components,\n",
    "i.e., better resolution in the frequency domain\n",
    "- Thus: longer in one domain is better resolution in other domain (Heisenberg/Fourier uncertainty principle [[1]])\n",
    "\n",
    "[1]: https://en.wikipedia.org/wiki/Uncertainty_principle#Wave_mechanics_interpretation:~:text=Mathematically%2C%20in%20wave,the%20wavenumber."
   ]
  },
  {
   "cell_type": "markdown",
   "metadata": {
    "cell_style": "center",
    "slideshow": {
     "slide_type": "slide"
    }
   },
   "source": [
    "## Compound waveforms"
   ]
  },
  {
   "cell_type": "markdown",
   "metadata": {
    "hide_input": false,
    "slideshow": {
     "slide_type": "notes"
    }
   },
   "source": [
    "For single sinewaves the Fourier transform is probably a bit overkill to describe the signal.\n",
    "Where it really shines, however, is for signals that are not neat single sinewaves\n",
    "-- either because they are combinations of single sinewaves (think of chords of musical notes),\n",
    "or because they're aperiodic signals."
   ]
  },
  {
   "cell_type": "markdown",
   "metadata": {
    "slideshow": {
     "slide_type": "fragment"
    }
   },
   "source": [
    "The Fourier _theorem_:\n",
    "any signal can be completely described as a weighted combination of sines and cosines.\n",
    "\n",
    "This holds true for an infinite signal that is described with infinitely many sinewaves,\n",
    "but even for our DFT version with finite samples (and thus finite frequency components)\n",
    "it is a very useful property of signals."
   ]
  },
  {
   "cell_type": "markdown",
   "metadata": {
    "slideshow": {
     "slide_type": "notes"
    }
   },
   "source": [
    "We'll now look at what compound waveforms (combinations of signals)\n",
    "look like, both in the time domain, and the frequency domain."
   ]
  },
  {
   "cell_type": "markdown",
   "metadata": {
    "hide_input": false,
    "slideshow": {
     "slide_type": "slide"
    }
   },
   "source": [
    "### Simple addition\n",
    "The simplest combination of two sinewaves that we can do\n",
    "is to add some sinusoid to itself."
   ]
  },
  {
   "cell_type": "code",
   "execution_count": null,
   "metadata": {
    "slideshow": {
     "slide_type": "-"
    }
   },
   "outputs": [],
   "source": [
    "L_unit = sinusoid(original_frequency, amplitude=original_amplitude)\n",
    "L_summed = L_unit + L_unit"
   ]
  },
  {
   "cell_type": "code",
   "execution_count": null,
   "metadata": {
    "hide_input": true,
    "slideshow": {
     "slide_type": "fragment"
    }
   },
   "outputs": [],
   "source": [
    "# Transform\n",
    "freqs = fftshift(fftfreq(len(times), d=(1/sampling_rate)))\n",
    "FL_unit = fftshift(fft(L_unit))\n",
    "FL_summed = fftshift(fft(L_summed))\n",
    "peak_amps_unit = np.abs(FL_unit) / (duration*sampling_rate)\n",
    "peak_amps_summed = np.abs(FL_summed) / (duration*sampling_rate)\n",
    "\n",
    "# Plot\n",
    "plt.close()\n",
    "fig, axs = plt.subplots(2,3, sharey='row', sharex=\"row\", figsize=(16, 7))\n",
    "\n",
    "axs[0, 0].plot(times, L_unit, label=\"unit\")\n",
    "axs[0, 0].set_title(\"Unit\")\n",
    "axs[0, 1].plot(times, L_summed, label=\"summed\")\n",
    "axs[0, 1].set_title(\"Summed\")\n",
    "axs[0, 2].set_visible(False)\n",
    "\n",
    "\n",
    "axs[1,0].stem(freqs, peak_amps_unit, label=\"unit\")\n",
    "axs[1,1].stem(freqs, peak_amps_summed, label=\"summed\")\n",
    "axs[1, 2].set_visible(False)\n",
    "\n",
    "plt.show()"
   ]
  },
  {
   "cell_type": "markdown",
   "metadata": {
    "slideshow": {
     "slide_type": "notes"
    }
   },
   "source": [
    "Since at every point the two unit-waveforms are identical\n",
    "it means that when summing them\n",
    "at every point we get double the value of the original unit-waveform.\n",
    "\n",
    "Thus, we end up with a waveform of the same frequency, and double the amplitude.\n",
    "\n",
    "We can see that this addition works in the time-domain,\n",
    "and that the amplitude spectrum reflects the summing as well."
   ]
  },
  {
   "cell_type": "markdown",
   "metadata": {
    "slideshow": {
     "slide_type": "slide"
    }
   },
   "source": [
    "Since multiplication is just repeatedly summing copies of the same waveform,\n",
    "a sum of unit-waveforms should be the same as waveform with scaled amplitude:\n",
    "$$ k \\cdot s(t) = \\sum^{k} s(t) = s_0(t) + s_1(t) + ... + s_k(t) $$"
   ]
  },
  {
   "cell_type": "code",
   "execution_count": null,
   "metadata": {
    "slideshow": {
     "slide_type": "-"
    }
   },
   "outputs": [],
   "source": [
    "L_summed = L_unit + L_unit + L_unit\n",
    "L_scaled = 3*L_unit"
   ]
  },
  {
   "cell_type": "code",
   "execution_count": null,
   "metadata": {
    "hide_input": true,
    "slideshow": {
     "slide_type": "fragment"
    }
   },
   "outputs": [],
   "source": [
    "# Transform\n",
    "freqs = fftshift(fftfreq(len(L_unit), d=(1/sampling_rate)))\n",
    "FL_unit = fftshift(fft(L_unit))\n",
    "FL_scaled = fftshift(fft(L_scaled))\n",
    "FL_summed = fftshift(fft(L_summed))\n",
    "peak_amps_unit = np.abs(FL_unit) / len(L_unit)\n",
    "peak_amps_scaled = np.abs(FL_scaled) / len(L_unit)\n",
    "peak_amps_summed = np.abs(FL_summed) / len(L_unit)\n",
    "\n",
    "# Plot\n",
    "plt.close()\n",
    "fig, axs = plt.subplots(2,3, sharey='row', sharex=\"row\", figsize=(16, 7))\n",
    "\n",
    "axs[0, 0].plot(times, L_unit, label=\"unit\")\n",
    "axs[0, 0].set_title(\"Unit\")\n",
    "axs[0, 1].plot(times, L_summed, label=\"summed\")\n",
    "axs[0, 1].set_title(\"Summed\")\n",
    "axs[0, 2].plot(times, L_scaled, label=\"scaled\")\n",
    "axs[0, 2].set_title(\"Scaled\")\n",
    "\n",
    "axs[1,0].stem(freqs, peak_amps_unit, label=\"unit\")\n",
    "axs[1,1].stem(freqs, peak_amps_summed, label=\"summed\")\n",
    "axs[1,2].stem(freqs, peak_amps_scaled, label=\"scaled\")\n",
    "\n",
    "\n",
    "plt.show()"
   ]
  },
  {
   "cell_type": "markdown",
   "metadata": {
    "slideshow": {
     "slide_type": "-"
    }
   },
   "source": [
    "- Addition in the signal-domain == addition in the frequency domain"
   ]
  },
  {
   "cell_type": "markdown",
   "metadata": {
    "slideshow": {
     "slide_type": "slide"
    }
   },
   "source": [
    "### Adding different sinusoids"
   ]
  },
  {
   "cell_type": "markdown",
   "metadata": {
    "slideshow": {
     "slide_type": "notes"
    }
   },
   "source": [
    "Here we have our original sinusoid,\n",
    "and you can select the parameters of a second sinusoid.\n",
    "These two then get summed into a compound waveform,\n",
    "and the amplitude spectra of this compoud waveform\n",
    "and the two components are plot."
   ]
  },
  {
   "cell_type": "code",
   "execution_count": null,
   "metadata": {
    "hide_input": true,
    "slideshow": {
     "slide_type": "fragment"
    }
   },
   "outputs": [],
   "source": [
    "def plot_compounds(frequency=1, amplitude=1, phase=0, mean=0):\n",
    "    # Generate sinusoid\n",
    "    L_1 = sinusoid(frequency=original_frequency, amplitude=original_amplitude, phase=original_phase, length=duration, sampling_rate=sampling_rate, mean=0)\n",
    "    L_2 = sinusoid(frequency=frequency, amplitude=amplitude, phase=phase, mean=mean, length=duration, sampling_rate=sampling_rate)\n",
    "    L_summed = L_1 + L_2    \n",
    "    \n",
    "    # Transform\n",
    "    freqs = fftshift(fftfreq(len(times), d=(1/sampling_rate)))\n",
    "    FL_1 = fftshift(fft(L_1))\n",
    "    FL_2 = fftshift(fft(L_2))\n",
    "    FL_summed = fftshift(fft(L_summed))\n",
    "    peak_amps_1 = np.abs(FL_1) / (2*sampling_rate)\n",
    "    peak_amps_2 = np.abs(FL_2) / (2*sampling_rate)\n",
    "    peak_amps_summed = np.abs(FL_summed) / (2*sampling_rate)\n",
    "    \n",
    "    # Plot\n",
    "    plt.close()\n",
    "    fig, axs = plt.subplots(2,3, sharey='row', sharex=\"row\", figsize=(16, 8))\n",
    "    axs[0, 0].plot(times, L_1, label=f\"{original_frequency} Hz\")\n",
    "    axs[0, 0].set_title(f\"{original_frequency} Hz\")\n",
    "    axs[0,1].plot(times, L_2, label=f\"{frequency} Hz\")\n",
    "    axs[0, 1].set_title(f\"{frequency} Hz\")\n",
    "    axs[0,2].plot(times, L_summed, label=\"summed\")\n",
    "    axs[0, 2].set_title(\"Summed\")\n",
    "    axs[0, 1].set_xlabel(\"Time (s)\")\n",
    "    axs[0, 0].set_ylim(-4,4)\n",
    "\n",
    "    \n",
    "    axs[1,0].stem(freqs, peak_amps_1, label=f\"{original_frequency} Hz\")\n",
    "    axs[1,1].stem(freqs, peak_amps_2, label=f\"{frequency} Hz\")\n",
    "    axs[1,2].stem(freqs, peak_amps_summed, label=\"summed\")   \n",
    "    axs[1,0].set_ylabel(\"Peak amplitude\")\n",
    "    axs[1,1].set_xlabel(\"Frequency (Hz)\")\n",
    "    axs[1,0].set_ylim(0,3)\n",
    "\n",
    "    \n",
    "interactive_plot = widgets.interactive(plot_compounds, frequency=(0, sampling_rate/2, 1/duration), amplitude=(0, 2, 0.1), phase=(0,180,30), mean=(-1,1,0.1))\n",
    "output = interactive_plot.children[-1]\n",
    "#output.layout.height = '350px'\n",
    "interactive_plot"
   ]
  },
  {
   "cell_type": "markdown",
   "metadata": {
    "slideshow": {
     "slide_type": "notes"
    }
   },
   "source": [
    "We can see that the combined waveform is a perfection composition of the two components.\n",
    "The amplitude spectrum also reflects this:\n",
    "it contains both the original frequency and its amplitude,\n",
    "and the second component at its amplitude.\n",
    "\n",
    "Hopefully you already observe (depending on the parameters you chose)\n",
    "that compound waveforms can be surprisingly hard to identify.\n",
    "Here there are just two sinusoidal components,\n",
    "but the compound can already seem erratic. The Fourier transform can take this hard to identify pattern,\n",
    "and because it breaks it down into constinuent components,\n",
    "reveal the simpler underlying structure."
   ]
  },
  {
   "cell_type": "markdown",
   "metadata": {
    "slideshow": {
     "slide_type": "slide"
    }
   },
   "source": [
    "### Signal in \"noise\"\n",
    "Since frequency analysis can reveal some underlying structure\n",
    "in a signal that looks erratic,\n",
    "it is especially useful for problems where there is a signal \"hidden\" in noise."
   ]
  },
  {
   "cell_type": "markdown",
   "metadata": {
    "slideshow": {
     "slide_type": "subslide"
    }
   },
   "source": [
    "#### Additional components as noise"
   ]
  },
  {
   "cell_type": "markdown",
   "metadata": {
    "slideshow": {
     "slide_type": "notes"
    }
   },
   "source": [
    "Here we've added a bunch of additional sinusoids, each with a random amplitude, and crucially, a random phase.\n",
    "This means that all those sinusoids are not aligned, and the signal becomes very erratic in the time domain.\n",
    "However, in the frequency domain, we can clearly see our original, low-frequency signal,\n",
    "and a bunch of high frequency noise."
   ]
  },
  {
   "cell_type": "code",
   "execution_count": null,
   "metadata": {
    "hide_input": true,
    "slideshow": {
     "slide_type": "fragment"
    }
   },
   "outputs": [],
   "source": [
    "rng = np.random.default_rng(1234)\n",
    "\n",
    "hf_noise = np.zeros(L.shape)\n",
    "for i in range(30):\n",
    "    f = freqs[-i]\n",
    "    hf_noise += sinusoid(frequency=f, amplitude=rng.uniform(0,.5,1), phase=rng.uniform(0,180,1))\n",
    "L_in_hf_noise = L + hf_noise\n",
    "\n",
    "Fy = fftshift(fft(L_in_hf_noise))\n",
    "amplitude_spectrum = np.abs(Fy) / (duration*sampling_rate)\n",
    "phase_spectrum = np.rad2deg(np.angle(Fy.round()))\n",
    "phase_spectrum = phase_spectrum % 180 * np.sign(phase_spectrum)\n",
    "\n",
    "fig, axs = plt.subplots(1,3, figsize=(16,5))\n",
    "plt.subplot(1,3,1)\n",
    "plt.title(\"Waveform\")\n",
    "plt.plot(times, L_in_hf_noise)\n",
    "plt.xlabel('Time (s)')\n",
    "plt.subplot(1,3,2)\n",
    "plt.stem(freqs, amplitude_spectrum)\n",
    "plt.xlabel(\"Frequency (Hz)\")\n",
    "plt.title(\"Amplitude spectrum\")\n",
    "plt.subplot(1,3,3)\n",
    "plt.stem(freqs, phase_spectrum)\n",
    "plt.xlabel(\"Frequency (Hz)\")\n",
    "plt.title(\"Phase spectrum\")\n",
    "plt.show()"
   ]
  },
  {
   "cell_type": "markdown",
   "metadata": {
    "slideshow": {
     "slide_type": "fragment"
    }
   },
   "source": [
    "**This is the goal of spectral analysis: by using an alternative representation of the signal, provide insights into its structure**"
   ]
  },
  {
   "cell_type": "markdown",
   "metadata": {
    "slideshow": {
     "slide_type": "subslide"
    }
   },
   "source": [
    "#### Random noise"
   ]
  },
  {
   "cell_type": "markdown",
   "metadata": {
    "slideshow": {
     "slide_type": "notes"
    }
   },
   "source": [
    "Here, we add a pseudorandom noise-value (drawn from a normal distribution)\n",
    "to each sample of our singal.\n",
    "In the time domain, the waveform indeed looks random;\n",
    "it's hard to identify the original signal.\n",
    "\n",
    "However, in the amplitude spectrum we can clearly see\n",
    "the peak frequency stand out.\n",
    "This frequency-domain representation of our signal\n",
    "allows us to identify the signal easily.\n",
    "\n",
    "\n",
    "The spectrum also shows a key property of random noise:\n",
    "it is composed of all frequency components, with various amplitudes\n",
    "(it \"contains power at all frequencies\").\n",
    "True \"white noise\",\n",
    "where each sample is completely independent from all other samples\n",
    "will have uniform power at all frequencies."
   ]
  },
  {
   "cell_type": "code",
   "execution_count": null,
   "metadata": {
    "hide_input": true,
    "slideshow": {
     "slide_type": "fragment"
    }
   },
   "outputs": [],
   "source": [
    "rng = np.random.default_rng(1234)\n",
    "\n",
    "w_noise = rng.normal(0,2,times.shape)\n",
    "L_in_w_noise = L + w_noise\n",
    "\n",
    "Fy = fftshift(fft(L_in_w_noise))\n",
    "amplitude_spectrum = np.abs(Fy) / (duration*sampling_rate)\n",
    "phase_spectrum = np.rad2deg(np.angle(Fy.round()))\n",
    "phase_spectrum = phase_spectrum % 180 * np.sign(phase_spectrum)\n",
    "\n",
    "fig, axs = plt.subplots(1,3, figsize=(16,5))\n",
    "plt.subplot(1,3,1)\n",
    "plt.title(\"Waveform\")\n",
    "plt.plot(times, L_in_w_noise)\n",
    "plt.xlabel('Time (s)')\n",
    "plt.subplot(1,3,2)\n",
    "plt.stem(freqs, amplitude_spectrum)\n",
    "plt.xlabel(\"Frequency (Hz)\")\n",
    "plt.title(\"Amplitude spectrum\")\n",
    "plt.subplot(1,3,3)\n",
    "plt.stem(freqs, phase_spectrum)\n",
    "plt.xlabel(\"Frequency (Hz)\")\n",
    "plt.title(\"Phase spectrum\")\n",
    "plt.show()"
   ]
  },
  {
   "cell_type": "markdown",
   "metadata": {
    "slideshow": {
     "slide_type": "slide"
    }
   },
   "source": [
    "## Manipulating signals in the frequency domain"
   ]
  },
  {
   "cell_type": "markdown",
   "metadata": {
    "slideshow": {
     "slide_type": "slide"
    }
   },
   "source": [
    "### Adjusting amplitude, phase, of single sinusoid"
   ]
  },
  {
   "cell_type": "markdown",
   "metadata": {
    "slideshow": {
     "slide_type": "notes"
    }
   },
   "source": [
    "Since the Fourier transform of our signal,\n",
    "and the amplitude and phase spectra are also just arrays of numbers,\n",
    "we can manipulate them directly.\n",
    "\n",
    "Let's manipulate a single sinusoid, in the frequency domain:"
   ]
  },
  {
   "cell_type": "code",
   "execution_count": null,
   "metadata": {
    "hide_input": false,
    "slideshow": {
     "slide_type": "skip"
    }
   },
   "outputs": [],
   "source": [
    "# Original\n",
    "L = sinusoid(frequency=original_frequency, amplitude=original_amplitude, phase=original_phase)\n",
    "\n",
    "# Fourier transform\n",
    "FL = fftshift(fft(L)).round()\n",
    "FL.real[FL.real == -0] = 0\n",
    "FL.imag[FL.imag == -0] = 0\n",
    "\n",
    "# Derive amplitude & phase spectra\n",
    "freqs = fftshift(fftfreq(len(times), d=(1/sampling_rate)))\n",
    "amplitude_spectrum = np.abs(FL) / (duration * sampling_rate)\n",
    "phase_spectrum = np.rad2deg(np.angle(FL))\n",
    "phase_spectrum = phase_spectrum"
   ]
  },
  {
   "cell_type": "code",
   "execution_count": null,
   "metadata": {
    "hide_input": true,
    "slideshow": {
     "slide_type": "fragment"
    }
   },
   "outputs": [],
   "source": [
    "# Plot\n",
    "fig, axs = plt.subplots(1,3, figsize=(16, 4), sharey=\"col\", sharex=\"col\")\n",
    "\n",
    "axs[0].set_title(\"Original waveform\")\n",
    "axs[0].plot(times, L)\n",
    "axs[0].set_xlabel(\"Time (s)\")\n",
    "\n",
    "axs[1].set_title(\"Original amplitude spectrum\")\n",
    "axs[1].stem(freqs, amplitude_spectrum)\n",
    "\n",
    "axs[2].set_title(\"Original phase spectrum\")\n",
    "axs[2].stem(freqs, phase_spectrum)\n",
    "\n",
    "axs[1].set_title(\"Adjusted amplitude spectrum\")\n",
    "axs[1].set_xlabel(\"Frequency (Hz)\")\n",
    "\n",
    "axs[2].set_title(\"Adjusted phase spectrum\")\n",
    "axs[2].set_xlabel(\"Frequency (Hz)\")\n",
    "\n",
    "plt.show()"
   ]
  },
  {
   "cell_type": "markdown",
   "metadata": {
    "slideshow": {
     "slide_type": "notes"
    }
   },
   "source": [
    "Here, we scale the amplitude spectrum\n",
    "(i.e., the amplitude of the one sinusoid).\n",
    "We'll keep the phase as it is, but you could also change that."
   ]
  },
  {
   "cell_type": "code",
   "execution_count": null,
   "metadata": {
    "slideshow": {
     "slide_type": "fragment"
    }
   },
   "outputs": [],
   "source": [
    "amplitude_adjust = amplitude_spectrum / 2\n",
    "phase_adjust = phase_spectrum"
   ]
  },
  {
   "cell_type": "code",
   "execution_count": null,
   "metadata": {
    "hide_input": true,
    "slideshow": {
     "slide_type": "fragment"
    }
   },
   "outputs": [],
   "source": [
    "# Plot\n",
    "fig, axs = plt.subplots(1,3, figsize=(16, 4), sharey=\"col\", sharex=\"col\")\n",
    "\n",
    "axs[0].set_title(\"Waveform\")\n",
    "axs[0].plot(times, L, visible=False)\n",
    "axs[0].set_xlabel(\"Time (s)\")\n",
    "\n",
    "axs[2].set_title(\"Original phase spectrum\")\n",
    "axs[2].stem(freqs, phase_spectrum)\n",
    "axs[2].set_xlabel(\"Frequency (Hz)\")\n",
    "\n",
    "axs[1].set_title(\"Adjusted amplitude spectrum\")\n",
    "axs[1].stem(freqs, amplitude_adjust)\n",
    "axs[1].set_xlabel(\"Frequency (Hz)\")\n",
    "axs[1].set_ylim(0,.5)\n",
    "\n",
    "plt.show()"
   ]
  },
  {
   "cell_type": "markdown",
   "metadata": {
    "slideshow": {
     "slide_type": "notes"
    }
   },
   "source": [
    "To see the change reflected in the waveform,\n",
    "we'll have to recombine the amplitude and phase spectra\n",
    "and transform back from the frequency domain into the time domain."
   ]
  },
  {
   "cell_type": "markdown",
   "metadata": {
    "slideshow": {
     "slide_type": "notes"
    }
   },
   "source": [
    "We need to convert the amptlide and phase information back the Fourier representation.\n",
    "First, remember that we scaled the amplitude spectrum by the length of the signal -- we need to scale it back.\n",
    "Secondly, we've been expressing the phase information in degrees, but the Fourier representation is in radians.\n",
    "Then, we can combine the amplitude and phase information into a complex number."
   ]
  },
  {
   "cell_type": "code",
   "execution_count": null,
   "metadata": {
    "slideshow": {
     "slide_type": "subslide"
    }
   },
   "outputs": [],
   "source": [
    "# Put spectra in correct units\n",
    "amplitude_components = amplitude_adjust * len(amplitude_adjust)\n",
    "phase_components = deg2rad(phase_adjust)\n",
    "\n",
    "# Put into complex form\n",
    "F_adjust = amplitude_components * exp(phase_components*1j)"
   ]
  },
  {
   "cell_type": "code",
   "execution_count": null,
   "metadata": {
    "hide_input": true,
    "slideshow": {
     "slide_type": "fragment"
    }
   },
   "outputs": [],
   "source": [
    "print(F_adjust)"
   ]
  },
  {
   "cell_type": "markdown",
   "metadata": {
    "slideshow": {
     "slide_type": "notes"
    }
   },
   "source": [
    "Now, we can use the _inverse_ DFT to go from the frequency domain back to the signal domain (time).\n",
    "For this we use the _inverse Fast Fourier Transform_ provided by `ifft`.\n",
    "This expects the frequencies to be ordered the same as they come out of the FFT:\n",
    "DC and positive first, then the negatives.\n",
    "Since we shifted the ordering, we also now have to undo that ordering, for which we can use `ifftshift`."
   ]
  },
  {
   "cell_type": "code",
   "execution_count": null,
   "metadata": {
    "slideshow": {
     "slide_type": "fragment"
    }
   },
   "outputs": [],
   "source": [
    "# Inverse (Discrete) Fourier Transform (iFFT)\n",
    "L_adjust = ifft(ifftshift(F_adjust))"
   ]
  },
  {
   "cell_type": "markdown",
   "metadata": {
    "slideshow": {
     "slide_type": "notes"
    }
   },
   "source": [
    "Finally, we have our modified signal!"
   ]
  },
  {
   "cell_type": "code",
   "execution_count": null,
   "metadata": {
    "hide_input": true,
    "slideshow": {
     "slide_type": "fragment"
    }
   },
   "outputs": [],
   "source": [
    "print(L_adjust.real)"
   ]
  },
  {
   "cell_type": "code",
   "execution_count": null,
   "metadata": {
    "hide_input": true,
    "slideshow": {
     "slide_type": "subslide"
    }
   },
   "outputs": [],
   "source": [
    "# Plot\n",
    "fig, axs = plt.subplots(2,3, figsize=(16, 8), sharey=\"col\", sharex=\"col\")\n",
    "\n",
    "axs[0,0].set_title(\"Original waveform\")\n",
    "axs[0,0].plot(times, L)\n",
    "axs[1,0].set_xlabel(\"Time (s)\")\n",
    "\n",
    "axs[0,1].set_title(\"Original amplitude spectrum\")\n",
    "axs[0,1].stem(freqs, amplitude_spectrum)\n",
    "\n",
    "axs[0,2].set_title(\"Original phase spectrum\")\n",
    "axs[0,2].stem(freqs, phase_spectrum)\n",
    "\n",
    "axs[1,1].set_title(\"Adjusted amplitude\")\n",
    "axs[1,1].stem(freqs, amplitude_adjust)\n",
    "axs[1,1].set_xlabel(\"Frequency (Hz)\")\n",
    "\n",
    "axs[1,2].set_title(\"Adjusted phase spectrum\")\n",
    "axs[1,2].stem(freqs, phase_adjust)\n",
    "axs[1,2].set_xlabel(\"Frequency (Hz)\")\n",
    "\n",
    "axs[1,0].set_title(\"New waveform\")\n",
    "axs[1,0].plot(times, L_adjust.real)\n",
    "\n",
    "plt.show()"
   ]
  },
  {
   "cell_type": "markdown",
   "metadata": {
    "slideshow": {
     "slide_type": "slide"
    }
   },
   "source": [
    "### Adjusting amplitude and phase of single component"
   ]
  },
  {
   "cell_type": "markdown",
   "metadata": {
    "slideshow": {
     "slide_type": "notes"
    }
   },
   "source": [
    "We can also do manipulations of a single sinusoid,\n",
    "even if we have multiple components in our signal.\n",
    "\n",
    "Let's look at compound waveform, and adjust the amplitude of one component:"
   ]
  },
  {
   "cell_type": "code",
   "execution_count": null,
   "metadata": {
    "hide_input": false,
    "slideshow": {
     "slide_type": "skip"
    }
   },
   "outputs": [],
   "source": [
    "# Original\n",
    "L_1 = sinusoid(frequency=original_frequency, amplitude=original_amplitude, phase=original_phase)\n",
    "L_2 = sinusoid(frequency=5*original_frequency, amplitude=2*original_amplitude, phase=original_phase+45)\n",
    "L_3 = sinusoid(frequency=10*original_frequency, amplitude=.3*original_amplitude, phase=original_phase+60)\n",
    "\n",
    "L = L_1 + L_2 + L_3 + .25\n",
    "\n",
    "# Fourier transform\n",
    "FL = fftshift(fft(L))\n",
    "FL = FL.round()\n",
    "FL.real[FL.real == -0] = 0\n",
    "FL.imag[FL.imag == -0] = 0\n",
    "\n",
    "# Derive amplitude & phase spectra\n",
    "freqs = fftshift(fftfreq(len(times), d=(1/sampling_rate)))\n",
    "amplitude_spectrum = np.abs(FL) / (duration * sampling_rate)\n",
    "phase_spectrum = np.rad2deg(np.angle(FL))"
   ]
  },
  {
   "cell_type": "code",
   "execution_count": null,
   "metadata": {
    "hide_input": true,
    "scrolled": true,
    "slideshow": {
     "slide_type": "-"
    }
   },
   "outputs": [],
   "source": [
    "# Plot\n",
    "fig, axs = plt.subplots(1,3, figsize=(16, 4), sharey=\"col\", sharex=\"col\")\n",
    "\n",
    "axs[0].set_title(\"Original waveform\")\n",
    "axs[0].plot(times, L)\n",
    "axs[0].set_xlabel(\"Time (s)\")\n",
    "\n",
    "axs[1].set_title(\"Original amplitude spectrum\")\n",
    "axs[1].stem(freqs, amplitude_spectrum)\n",
    "\n",
    "axs[2].set_title(\"Original phase spectrum\")\n",
    "axs[2].stem(freqs, phase_spectrum)\n",
    "\n",
    "plt.show()"
   ]
  },
  {
   "cell_type": "code",
   "execution_count": null,
   "metadata": {
    "hide_input": false,
    "slideshow": {
     "slide_type": "skip"
    }
   },
   "outputs": [],
   "source": [
    "# Which frequency, and what indices is that?\n",
    "component = 1 # Hz\n",
    "indices = [np.where(freqs==component)[0][0], np.where(freqs==-component)[0][0]]\n",
    "\n",
    "# Adjust amplitude spectrum\n",
    "amplitude_adjust = amplitude_spectrum.copy()\n",
    "amplitude_adjust[indices] = .9\n",
    "\n",
    "# Adjust phase spectrum\n",
    "phase_adjust = phase_spectrum.copy()\n",
    "phase_adjust[indices] = [-120,120]"
   ]
  },
  {
   "cell_type": "code",
   "execution_count": null,
   "metadata": {
    "hide_input": true,
    "slideshow": {
     "slide_type": "fragment"
    }
   },
   "outputs": [],
   "source": [
    "# Plot\n",
    "fig, axs = plt.subplots(1,3, figsize=(16, 4), sharey=\"col\", sharex=\"col\")\n",
    "\n",
    "# axs[0,0].set_title(\"Original waveform\")\n",
    "# axs[0,0].plot(times, L)\n",
    "# axs[1,0].set_xlabel(\"Time (s)\")\n",
    "\n",
    "# axs[0,1].set_title(\"Original amplitude spectrum\")\n",
    "# axs[0,1].stem(freqs, amplitude_spectrum)\n",
    "\n",
    "# axs[0,2].set_title(\"Original phase spectrum\")\n",
    "# axs[0,2].stem(freqs, phase_spectrum)\n",
    "\n",
    "axs[1].set_title(\"Adjusted amplitude spectrum\")\n",
    "axs[1].stem(freqs, amplitude_adjust)\n",
    "axs[1].stem(freqs[indices], amplitude_adjust[indices], markerfmt=\"C1o\",linefmt=\"C1-\")\n",
    "axs[1].set_xlabel(\"Frequency (Hz)\")\n",
    "\n",
    "axs[2].set_title(\"Adjusted phase spectrum\")\n",
    "axs[2].stem(freqs, phase_adjust)\n",
    "axs[2].stem(freqs[indices], phase_adjust[indices], markerfmt=\"C1o\",linefmt=\"C1-\")\n",
    "axs[2].set_xlabel(\"Frequency (Hz)\")\n",
    "\n",
    "axs[0].set_title(\"New waveform\")\n",
    "\n",
    "plt.show()"
   ]
  },
  {
   "cell_type": "code",
   "execution_count": null,
   "metadata": {
    "hide_input": false,
    "slideshow": {
     "slide_type": "skip"
    }
   },
   "outputs": [],
   "source": [
    "amplitude_components = amplitude_adjust * len(amplitude_adjust)\n",
    "phase_components = deg2rad(phase_adjust)\n",
    "F_adjust = amplitude_components * exp(phase_components*1j)\n",
    "L_adjust = ifft(ifftshift(F_adjust))"
   ]
  },
  {
   "cell_type": "code",
   "execution_count": null,
   "metadata": {
    "hide_input": true,
    "scrolled": false,
    "slideshow": {
     "slide_type": "subslide"
    }
   },
   "outputs": [],
   "source": [
    "# Plot\n",
    "fig, axs = plt.subplots(2,3, figsize=(16, 8), sharey=\"col\", sharex=\"col\")\n",
    "\n",
    "axs[0,0].set_title(\"Original waveform\")\n",
    "axs[0,0].plot(times, L)\n",
    "axs[1,0].set_xlabel(\"Time (s)\")\n",
    "\n",
    "axs[0,1].set_title(\"Original amplitude spectrum\")\n",
    "axs[0,1].stem(freqs, amplitude_spectrum)\n",
    "\n",
    "axs[0,2].set_title(\"Original phase spectrum\")\n",
    "axs[0,2].stem(freqs, phase_spectrum)\n",
    "\n",
    "axs[1,1].set_title(\"Adjusted amplitude spectrum\")\n",
    "axs[1,1].stem(freqs, amplitude_adjust)\n",
    "axs[1,1].stem(freqs[indices], amplitude_adjust[indices], markerfmt=\"C1o\",linefmt=\"C1-\")\n",
    "axs[1,1].set_xlabel(\"Frequency (Hz)\")\n",
    "\n",
    "axs[1,2].set_title(\"Adjusted phase spectrum\")\n",
    "axs[1,2].stem(freqs, phase_adjust)\n",
    "axs[1,2].stem(freqs[indices], phase_adjust[indices], markerfmt=\"C1o\",linefmt=\"C1-\")\n",
    "axs[1,2].set_xlabel(\"Frequency (Hz)\")\n",
    "\n",
    "axs[1,0].set_title(\"New waveform\")\n",
    "axs[1,0].plot(times, L_adjust.real)\n",
    "\n",
    "plt.show()"
   ]
  },
  {
   "cell_type": "markdown",
   "metadata": {
    "slideshow": {
     "slide_type": "notes"
    }
   },
   "source": [
    "We can adjust the amplitude and phase of one of our components,\n",
    "while keeping the other components the same.\n",
    "\n",
    "We see that by increasing the amplitude of that component,\n",
    "it becomes more \"prominent\" in the waveform,\n",
    "since a larger share of the total amplitude of the compound signal now comes from that component."
   ]
  },
  {
   "cell_type": "markdown",
   "metadata": {
    "slideshow": {
     "slide_type": "notes"
    }
   },
   "source": [
    "Since we can express the differences in amplitude and phase spectra\n",
    "between the original and adjusted signal\n",
    "as a single summation/subtraction,\n",
    "we can also express the differences between the waveforms as such;\n",
    "a single sinusoid, with a particular amplitude and phase,\n",
    "can be added to the original to achieve the adjusted signal."
   ]
  },
  {
   "cell_type": "code",
   "execution_count": null,
   "metadata": {
    "hide_input": true,
    "slideshow": {
     "slide_type": "skip"
    }
   },
   "outputs": [],
   "source": [
    "fig, (orig, adjust, diff) = plt.subplots(1,3, figsize=(18,5), sharex=\"all\", sharey=\"row\")\n",
    "\n",
    "plot_waveform(orig, L, times=times)\n",
    "orig.set_title(\"Original\")\n",
    "orig.set_xlabel(\"\")\n",
    "\n",
    "plot_waveform(adjust, L_adjust.real, times=times)\n",
    "adjust.set_title(\"Adjusted\")\n",
    "adjust.set_ylabel(\"\")\n",
    "\n",
    "plot_waveform(diff, L_adjust.real - L, times=times)\n",
    "diff.set_title(\"Difference (A - O)\")\n",
    "diff.set_ylabel(\"\")\n",
    "diff.set_xlabel(\"\")\n",
    "\n",
    "plt.show()"
   ]
  },
  {
   "cell_type": "markdown",
   "metadata": {
    "slideshow": {
     "slide_type": "notes"
    }
   },
   "source": [
    "But imagine that if you want to do this manipulation in the signal domain (time):\n",
    "then you would have to:\n",
    "- know what you want the adjusted amplitude and phase to be\n",
    "- know what the original amplitude and phase of the component are\n",
    "- subtract the amplitude and phase\n",
    "\n",
    "to construct the difference signal.\n",
    "In the frequency domain, we only had to specify the adjusted amplitude and phase."
   ]
  },
  {
   "cell_type": "markdown",
   "metadata": {
    "slideshow": {
     "slide_type": "slide"
    }
   },
   "source": [
    "### Removing components"
   ]
  },
  {
   "cell_type": "markdown",
   "metadata": {
    "slideshow": {
     "slide_type": "notes"
    }
   },
   "source": [
    "Another common manipulation that we may do in the frequency domain\n",
    "is to _remove_ frequency components in some range,\n",
    "e.g., above some cutoff frequency.\n",
    "For example, the cell/system that you're studying\n",
    "may not be responsive above some frequency,\n",
    "so you want to remove all the higher frequencies from your stimulus."
   ]
  },
  {
   "cell_type": "markdown",
   "metadata": {
    "slideshow": {
     "slide_type": "notes"
    }
   },
   "source": [
    "Let's try this out on our signal where we added random noise\n",
    "to each timepoint in the waveform\n",
    "-- in principle, we don't know any of the frequency properties of the noise."
   ]
  },
  {
   "cell_type": "code",
   "execution_count": null,
   "metadata": {
    "hide_input": false,
    "slideshow": {
     "slide_type": "skip"
    }
   },
   "outputs": [],
   "source": [
    "# Fourier transform\n",
    "Fy = fftshift(fft(L_in_w_noise))\n",
    "\n",
    "# Clean\n",
    "Fy = Fy.round()\n",
    "Fy.real[Fy.real == -0] = 0\n",
    "Fy.imag[Fy.imag == -0] = 0\n",
    "\n",
    "# Derive spectra\n",
    "amplitude_spectrum = np.abs(Fy) / len(Fy)\n",
    "phase_spectrum = np.rad2deg(np.angle(Fy))"
   ]
  },
  {
   "cell_type": "code",
   "execution_count": null,
   "metadata": {
    "hide_input": true,
    "slideshow": {
     "slide_type": "fragment"
    }
   },
   "outputs": [],
   "source": [
    "# Plot\n",
    "fig, axs = plt.subplots(1,3, figsize=(16, 4), sharey=\"col\", sharex=\"col\")\n",
    "\n",
    "axs[0].set_title(\"Original waveform\")\n",
    "axs[0].plot(times, L_in_w_noise)\n",
    "axs[0].set_xlabel(\"Time (s)\")\n",
    "\n",
    "axs[1].set_title(\"Original amplitude spectrum\")\n",
    "axs[1].stem(freqs, amplitude_spectrum)\n",
    "\n",
    "axs[2].set_title(\"Original phase spectrum\")\n",
    "axs[2].stem(freqs, phase_spectrum)\n",
    "\n",
    "plt.show()"
   ]
  },
  {
   "cell_type": "markdown",
   "metadata": {
    "slideshow": {
     "slide_type": "notes"
    }
   },
   "source": [
    "As we saw before,\n",
    "the frequency domain representation shows that we have a signal,\n",
    "embedded in the noise.\n",
    "That is, there is a higher amplitude signal, with a clear, low, frequency.\n",
    "\n",
    "Also, we see that the noise is characterized by all frequency bands\n",
    "with varying amplitude\n",
    "and, crucially, random phase."
   ]
  },
  {
   "cell_type": "markdown",
   "metadata": {
    "slideshow": {
     "slide_type": "notes"
    }
   },
   "source": [
    "Let's remove some of this noise.\n",
    "Since we know that the signal we're looking for has a low frequency,\n",
    "we can filter out all high frequency components\n",
    "and we should be left with a less noisy signal.\n",
    "In other words, we'll find all frequency components above some cutoff frequency\n",
    "and set the amplitudes of all these components to 0.\n",
    "To keep things proper, we'll have to do the same with the negative frequencies,\n",
    "that is, we want to cut off all components where the absolute frequency is higher than our cutoff.\n",
    "We don't have to alter the phase of any components,\n",
    "since the phase of a component with 0 amplitude is irrelevant."
   ]
  },
  {
   "cell_type": "code",
   "execution_count": null,
   "metadata": {
    "slideshow": {
     "slide_type": "fragment"
    }
   },
   "outputs": [],
   "source": [
    "# What is the cutoff frequency?\n",
    "cutoff = 5 # Hz\n",
    "\n",
    "# Adjust amplitude spectrum\n",
    "amplitude_adjust = amplitude_spectrum.copy()\n",
    "amplitude_adjust[abs(freqs) > cutoff] = 0\n",
    "\n",
    "# Adjust phase spectrum\n",
    "phase_adjust = phase_spectrum.copy()"
   ]
  },
  {
   "cell_type": "code",
   "execution_count": null,
   "metadata": {
    "hide_input": true,
    "slideshow": {
     "slide_type": "skip"
    }
   },
   "outputs": [],
   "source": [
    "# Plot\n",
    "fig, axs = plt.subplots(2,3, figsize=(16, 8), sharey=\"col\", sharex=\"col\")\n",
    "\n",
    "axs[0,0].set_title(\"Original waveform\")\n",
    "axs[0,0].plot(times, L)\n",
    "axs[1,0].set_xlabel(\"Time (s)\")\n",
    "\n",
    "axs[0,1].set_title(\"Original amplitude spectrum\")\n",
    "axs[0,1].stem(freqs, amplitude_spectrum)\n",
    "\n",
    "axs[0,2].set_title(\"Original phase spectrum\")\n",
    "axs[0,2].stem(freqs, phase_spectrum)\n",
    "\n",
    "axs[1,1].set_title(\"Adjusted amplitude spectrum\")\n",
    "axs[1,1].stem(freqs, amplitude_adjust)\n",
    "axs[1,1].stem(freqs[freqs > cutoff], amplitude_adjust[freqs > cutoff], markerfmt=\"C1o\",linefmt=\"C1-\")\n",
    "axs[1,1].stem(freqs[freqs < -cutoff], amplitude_adjust[freqs < -cutoff], markerfmt=\"C1o\",linefmt=\"C1-\")\n",
    "axs[1,1].set_xlabel(\"Frequency (Hz)\")\n",
    "\n",
    "axs[1,2].set_title(\"Adjusted phase spectrum\")\n",
    "axs[1,2].stem(freqs, phase_adjust)\n",
    "axs[1,2].stem(freqs[freqs > cutoff], phase_adjust[freqs > cutoff], markerfmt=\"C1o\",linefmt=\"C1-\")\n",
    "axs[1,2].stem(freqs[freqs < -cutoff], phase_adjust[freqs < -cutoff], markerfmt=\"C1o\",linefmt=\"C1-\")\n",
    "axs[1,2].set_xlabel(\"Frequency (Hz)\")\n",
    "\n",
    "axs[1,0].set_title(\"New waveform\")\n",
    "\n",
    "plt.show()"
   ]
  },
  {
   "cell_type": "markdown",
   "metadata": {
    "slideshow": {
     "slide_type": "notes"
    }
   },
   "source": [
    "Now that we have altered the amplitude spectrum,\n",
    "we can construct the adjusted waveform\n",
    "through the inverse DFT as before:"
   ]
  },
  {
   "cell_type": "code",
   "execution_count": null,
   "metadata": {
    "slideshow": {
     "slide_type": "skip"
    }
   },
   "outputs": [],
   "source": [
    "# Put spectra in correct units\n",
    "amplitude_components = amplitude_adjust * len(amplitude_adjust)\n",
    "phase_components = deg2rad(phase_adjust)\n",
    "\n",
    "# Put into complex form\n",
    "F_adjust = amplitude_components * exp(phase_components*1j)\n",
    "\n",
    "# Inverse DFT\n",
    "L_adjust = ifft(ifftshift(F_adjust))"
   ]
  },
  {
   "cell_type": "code",
   "execution_count": null,
   "metadata": {
    "hide_input": true,
    "slideshow": {
     "slide_type": "subslide"
    }
   },
   "outputs": [],
   "source": [
    "# Plot\n",
    "fig, axs = plt.subplots(2,3, figsize=(16, 8), sharey=\"col\", sharex=\"col\")\n",
    "\n",
    "axs[0,0].set_title(\"Original waveform\")\n",
    "axs[0,0].plot(times, L_in_w_noise)\n",
    "axs[1,0].set_xlabel(\"Time (s)\")\n",
    "\n",
    "axs[0,1].set_title(\"Original amplitude spectrum\")\n",
    "axs[0,1].stem(freqs, amplitude_spectrum)\n",
    "\n",
    "axs[0,2].set_title(\"Original phase spectrum\")\n",
    "axs[0,2].stem(freqs, phase_spectrum)\n",
    "\n",
    "axs[1,1].set_title(\"Adjusted amplitude spectrum\")\n",
    "axs[1,1].stem(freqs, amplitude_adjust)\n",
    "axs[1,1].stem(freqs[freqs > cutoff], amplitude_adjust[freqs > cutoff], markerfmt=\"C1o\",linefmt=\"C1-\")\n",
    "axs[1,1].stem(freqs[freqs < -cutoff], amplitude_adjust[freqs < -cutoff], markerfmt=\"C1o\",linefmt=\"C1-\")\n",
    "axs[1,1].set_xlabel(\"Frequency (Hz)\")\n",
    "\n",
    "axs[1,2].set_title(\"Adjusted phase spectrum\")\n",
    "axs[1,2].stem(freqs, phase_adjust)\n",
    "axs[1,2].stem(freqs[freqs > cutoff], phase_adjust[freqs > cutoff], markerfmt=\"C1o\",linefmt=\"C1-\")\n",
    "axs[1,2].stem(freqs[freqs < -cutoff], phase_adjust[freqs < -cutoff], markerfmt=\"C1o\",linefmt=\"C1-\")\n",
    "axs[1,2].set_xlabel(\"Frequency (Hz)\")\n",
    "\n",
    "axs[1,0].set_title(\"New waveform\")\n",
    "axs[1,0].plot(times, L_adjust.real)\n",
    "\n",
    "plt.show()"
   ]
  },
  {
   "cell_type": "markdown",
   "metadata": {
    "slideshow": {
     "slide_type": "notes"
    }
   },
   "source": [
    "This is indeed a lot \"cleaner\":\n",
    "since we have remove high frequencies,\n",
    "there are fewer rapid large changes.\n",
    "\n",
    "Note that this kind of operation\n",
    "is much easier to do in the frequency domain than in the signal domain.\n",
    "Like in the previous example\n",
    "we could figure out some signal,\n",
    "which when we subtract it from the original waveform\n",
    "removes the noise components and leaves us with the \"clean\" waveform.\n",
    "However, to do that,\n",
    "we would first have to characterize the amplitude and phase\n",
    "of each of the components we want to remove.\n",
    "Then, we would have to construct a waveform for each of these components\n",
    "with the right amplitude and phase, and subtract it from the original.\n",
    "\n",
    "\n",
    "In the frequency domain,\n",
    "we just specify that everything beyond a certain frequency\n",
    "should be set to 0."
   ]
  },
  {
   "cell_type": "markdown",
   "metadata": {
    "slideshow": {
     "slide_type": "slide"
    }
   },
   "source": [
    "### Filtering: cutting of components by multiplying amplitude spectrum"
   ]
  },
  {
   "cell_type": "markdown",
   "metadata": {
    "slideshow": {
     "slide_type": "notes"
    }
   },
   "source": [
    "Rather than setting all these components to 0 \"by hand\"\n",
    "we can use a fun trick: multiplying the amplitude spectrum by 0s and 1s.\n",
    "For the components that we want to remove,\n",
    "we multiply the amplitude by 0,\n",
    "so that the amplitude of that component becomes 0.\n",
    "The other components we don't want to change,\n",
    "so we multiply those by 1.\n",
    "\n",
    "Thus, we need to have a vector of the same length as the amplitude spectrum,\n",
    "with a 0 for each component we want to cut\n",
    "and a 1 for each component we want to keep:"
   ]
  },
  {
   "cell_type": "code",
   "execution_count": null,
   "metadata": {
    "slideshow": {
     "slide_type": "-"
    }
   },
   "outputs": [],
   "source": [
    "# Adjust spectra:\n",
    "cutoff = 5\n",
    "\n",
    "discard_high_freqs = (freqs > cutoff) + (freqs < -cutoff)\n",
    "keep_freqs = ~discard_high_freqs"
   ]
  },
  {
   "cell_type": "markdown",
   "metadata": {
    "slideshow": {
     "slide_type": "notes"
    }
   },
   "source": [
    "In Python we can use an extra fun trick:\n",
    "that the values `True` and `False` can automatically used as `1` and `0`, resp.\n",
    "Thus, a vector of `True`s and `False`s is already our vector of `1`s and `0`s."
   ]
  },
  {
   "cell_type": "code",
   "execution_count": null,
   "metadata": {
    "cell_style": "split",
    "hide_input": true,
    "slideshow": {
     "slide_type": "-"
    }
   },
   "outputs": [],
   "source": [
    "print(keep_freqs)"
   ]
  },
  {
   "cell_type": "code",
   "execution_count": null,
   "metadata": {
    "cell_style": "split",
    "hide_input": true,
    "slideshow": {
     "slide_type": "-"
    }
   },
   "outputs": [],
   "source": [
    "print(keep_freqs * 1)"
   ]
  },
  {
   "cell_type": "code",
   "execution_count": null,
   "metadata": {
    "slideshow": {
     "slide_type": "subslide"
    }
   },
   "outputs": [],
   "source": [
    "amplitude_adjust = amplitude_spectrum * keep_freqs"
   ]
  },
  {
   "cell_type": "code",
   "execution_count": null,
   "metadata": {
    "cell_style": "split",
    "hide_input": true,
    "slideshow": {
     "slide_type": "fragment"
    }
   },
   "outputs": [],
   "source": [
    "fig, axs = plt.subplots(1,2, figsize=(6, 4), sharex='all', sharey='all')\n",
    "\n",
    "axs[0].stem(freqs, amplitude_spectrum)\n",
    "axs[0].set_xlabel(\"Frequency (Hz)\")\n",
    "axs[0].set_title(\"Original amplitude spectrum\")\n",
    "\n",
    "axs[1].set_xlabel(\"Frequency (Hz)\")\n",
    "axs[1].set_title(\"Filter\")\n",
    "axs[1].step(freqs, keep_freqs)\n",
    "\n",
    "plt.show()"
   ]
  },
  {
   "cell_type": "code",
   "execution_count": null,
   "metadata": {
    "cell_style": "split",
    "hide_input": true,
    "scrolled": true,
    "slideshow": {
     "slide_type": "fragment"
    }
   },
   "outputs": [],
   "source": [
    "fig, axs = plt.subplots(1,1, figsize=(3, 4), sharex='all', sharey='all')\n",
    "\n",
    "axs.set_xlabel(\"Frequency (Hz)\")\n",
    "axs.set_title(\"Filtered amplitude spectrum\")\n",
    "axs.stem(freqs, amplitude_adjust)\n",
    "\n",
    "plt.show()"
   ]
  },
  {
   "cell_type": "markdown",
   "metadata": {
    "slideshow": {
     "slide_type": "notes"
    }
   },
   "source": [
    "This vector of which frequencies to keep, and which to discard is a filter.\n",
    "Multiplying the amplitude spectrum with this filter\n",
    "then filters out the components for which the filter is 0,\n",
    "and lets the components pass through for which the filter is 1."
   ]
  },
  {
   "cell_type": "code",
   "execution_count": null,
   "metadata": {
    "hide_input": true,
    "slideshow": {
     "slide_type": "-"
    }
   },
   "outputs": [],
   "source": [
    "def plot_filtered(cutoff_low=0., cutoff_high=15.):\n",
    "    # Fourier transform\n",
    "    Fy = fftshift(fft(L_in_w_noise))\n",
    "\n",
    "    # Clean\n",
    "    Fy = Fy.round()\n",
    "    Fy.real[Fy.real == -0] = 0\n",
    "    Fy.imag[Fy.imag == -0] = 0\n",
    "\n",
    "    # Derive spectra\n",
    "    amplitude_spectrum = np.abs(Fy) / len(Fy)\n",
    "    phase_spectrum = np.rad2deg(np.angle(Fy))\n",
    "    \n",
    "    # Design filter:\n",
    "    discard_idcs = (freqs < cutoff_low) + (freqs > cutoff_high)\n",
    "    discard_idcs_neg = (freqs > -cutoff_low) + (freqs < -cutoff_high)\n",
    "    filter_idcs = ~discard_idcs + ~discard_idcs_neg\n",
    "\n",
    "    # Apply filter\n",
    "    amplitude_adjust = amplitude_spectrum * filter_idcs\n",
    "    phase_adjust = phase_spectrum.copy()\n",
    "\n",
    "    # Put spectra in correct units\n",
    "    amplitude_components = amplitude_adjust * len(amplitude_adjust)\n",
    "    phase_components = deg2rad(phase_adjust)\n",
    "\n",
    "    # Put into complex form\n",
    "    F_adjust = amplitude_components * exp(phase_components*1j)\n",
    "\n",
    "    # Inverse DFT\n",
    "    L_adjust = ifft(ifftshift(F_adjust))\n",
    "\n",
    "    # Plot\n",
    "    fig, axs = plt.subplots(2,3, figsize=(16, 8), sharey=\"col\", sharex=\"col\")\n",
    "\n",
    "    axs[0,0].set_title(\"Original waveform\")\n",
    "    axs[0,0].plot(times, L_in_w_noise)\n",
    "    axs[1,0].set_xlabel(\"Time (s)\")\n",
    "\n",
    "    axs[0,2].set_title(\"Original amplitude spectrum\")\n",
    "    axs[0,2].stem(freqs, amplitude_spectrum)\n",
    "\n",
    "    fig.delaxes(axs[0,1])\n",
    "    fig.delaxes(axs[1,1])\n",
    "\n",
    "    plt.subplot(3,3,5)\n",
    "    plt.step(freqs, filter_idcs)\n",
    "    plt.title(\"Filter\")\n",
    "    plt.xlabel(\"Frequency (Hz)\")\n",
    "    plt.ylim(-.1,1.1)\n",
    "\n",
    "    axs[1,2].set_title(\"Adjusted amplitude spectrum\")\n",
    "    axs[1,2].stem(freqs, amplitude_adjust)\n",
    "    axs[1,2].set_xlabel(\"Frequency (Hz)\")\n",
    "\n",
    "\n",
    "    axs[1,0].set_title(\"New waveform\")\n",
    "    axs[1,0].plot(times, L_adjust.real)\n",
    "\n",
    "\n",
    "max_slider = widgets.FloatSlider(min=0, value=(freqs.max()+1/duration)/2, max=freqs.max()+(1/duration))\n",
    "min_slider = widgets.FloatSlider(min=0, value=0, max=max_slider.value)\n",
    "def update_max(*args):\n",
    "    min_slider.max = max_slider.value\n",
    "    if min_slider.value > min_slider.max:\n",
    "        min_slider.value = min_slider.max\n",
    "def update_min(*args):\n",
    "    max_slider.min = min_slider.value\n",
    "    if max_slider.value < max_slider.min:\n",
    "        max_slider.value = max_slider.min\n",
    "max_slider.observe(update_max)\n",
    "min_slider.observe(update_min)\n",
    "    \n",
    "widgets.interactive(plot_filtered, cutoff_high=max_slider, cutoff_low=min_slider)"
   ]
  },
  {
   "cell_type": "markdown",
   "metadata": {
    "slideshow": {
     "slide_type": "fragment"
    }
   },
   "source": [
    "- Low-pass filter cuts off high frequencies, and lets low frequencies pass (i.e., `cutoff_low = 0`)\n",
    "- High-pass filter cuts off low frequencies, and lets high frequencies pass (i.e., `cutoff_high >= max`)\n",
    "- Bandpass filter cuts off both some low frequencies and some high frequencies, and lets a band of frequencies (between the two cutoffs) pass (i.e., `cutoff_low > 0 & cutoff_high < max`)"
   ]
  },
  {
   "cell_type": "markdown",
   "metadata": {
    "slideshow": {
     "slide_type": "notes"
    }
   },
   "source": [
    "Filter does not have to be binary; can take any value and will scale amplitude accordingly."
   ]
  },
  {
   "cell_type": "markdown",
   "metadata": {
    "slideshow": {
     "slide_type": "slide"
    },
    "toc": true
   },
   "source": [
    "<h1>Summary<span class=\"tocSkip\"></span></h1>\n",
    "\n",
    "- Signals: descriptions of change over time\n",
    "   - Frequency, amplitude, phase, mean\n",
    "- Frequency-domain description of a signal: Fourier transform\n",
    "   - Frequency components (inc. DC), amplitude spectrum, phase spectrum\n",
    "- Signal resolution: important limitations on digital signal processing\n",
    "   - Sampling rate determines Nyquist limit\n",
    "   - duration determines fundamental frequency\n",
    "- Compound waveforms\n",
    "   - Adding signals adds their amplitude spectra, phase spectra\n",
    "   - Frequency domain can uncover structure that is not clear in signal domain\n",
    "- Manipulating signals in the frequency domain \n",
    "   - inverse Fourier transform (iFFT)\n",
    "   - filtering signals, by multiply amplitude spectra"
   ]
  }
 ],
 "metadata": {
  "celltoolbar": "Slideshow",
  "hide_input": false,
  "kernelspec": {
   "display_name": "tutorials",
   "language": "python",
   "name": "tutorials"
  },
  "language_info": {
   "codemirror_mode": {
    "name": "ipython",
    "version": 3
   },
   "file_extension": ".py",
   "mimetype": "text/x-python",
   "name": "python",
   "nbconvert_exporter": "python",
   "pygments_lexer": "ipython3",
   "version": "3.9.6"
  },
  "toc": {
   "base_numbering": 1,
   "nav_menu": {},
   "number_sections": true,
   "sideBar": false,
   "skip_h1_title": true,
   "title_cell": "Signal processing (in 1D)",
   "title_sidebar": "Contents",
   "toc_cell": true,
   "toc_position": {
    "height": "calc(100% - 180px)",
    "left": "10px",
    "top": "150px",
    "width": "533px"
   },
   "toc_section_display": false,
   "toc_window_display": false
  }
 },
 "nbformat": 4,
 "nbformat_minor": 2
}
