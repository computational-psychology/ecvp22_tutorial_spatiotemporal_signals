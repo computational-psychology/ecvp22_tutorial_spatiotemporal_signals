{
 "cells": [
  {
   "cell_type": "markdown",
   "id": "8b90c65b",
   "metadata": {},
   "source": [
    "# TOC -> nbextensions"
   ]
  },
  {
   "cell_type": "code",
   "execution_count": null,
   "id": "daf6a817",
   "metadata": {},
   "outputs": [],
   "source": [
    "import numpy as np\n",
    "import scipy.fft\n",
    "import matplotlib.pyplot as plt\n",
    "from matplotlib.animation import FuncAnimation\n",
    "from IPython.display import clear_output, display, HTML\n",
    "from ipywidgets import interactive as interactive\n",
    "import cv2\n",
    "\n",
    "%matplotlib inline"
   ]
  },
  {
   "cell_type": "markdown",
   "id": "b35f17b7",
   "metadata": {},
   "source": [
    "## Visual processing as a cascade of filtering operations\n",
    "\n",
    "### The receptive field of a visual neuron as a filter\n",
    "\n",
    "In the first layers of visual processing (retina, LGN, V1, ...), cells are spatially arranged\n",
    "in a way that adjacent cells respond to partially overlapping portions of the visual field.\n",
    "\n",
    "We tend to characterize these cells based on their so-called receptive field properties.\n",
    "The receptive field of a cell is the region of the visual field that makes a cell change its\n",
    "firing in the presence of a certain visual stimulation.\n",
    "The type of visual stimulation that a cell preferrably responds to can differ both in their\n",
    "spatial as well as temporal properties.\n",
    "Analogously, we can model the behavior of visual cells using spatial and temporal filters.\n",
    "\n",
    "Let's have a look into some characteristics of cells along the first layers of visual processing.\n",
    "\n",
    "**TO-DO: Add an image for visualization"
   ]
  },
  {
   "cell_type": "code",
   "execution_count": null,
   "id": "2bde0ffd",
   "metadata": {},
   "outputs": [],
   "source": []
  },
  {
   "cell_type": "markdown",
   "id": "6213bfd6",
   "metadata": {},
   "source": [
    "### Receptive fields of retinal ganglion cells and cells in LGN"
   ]
  },
  {
   "cell_type": "code",
   "execution_count": null,
   "id": "f2d8ba34",
   "metadata": {},
   "outputs": [],
   "source": []
  },
  {
   "cell_type": "markdown",
   "id": "1adcb52e",
   "metadata": {},
   "source": [
    "### Receptive fields of cells in V1"
   ]
  },
  {
   "cell_type": "code",
   "execution_count": null,
   "id": "f3d9cc84",
   "metadata": {},
   "outputs": [],
   "source": []
  },
  {
   "cell_type": "markdown",
   "id": "d518e918",
   "metadata": {},
   "source": [
    "## Spatiotemporal properties of the visual system\n",
    "\n",
    "### The contrast sensitivity function"
   ]
  },
  {
   "cell_type": "code",
   "execution_count": null,
   "id": "390bb232",
   "metadata": {},
   "outputs": [],
   "source": []
  },
  {
   "cell_type": "markdown",
   "id": "17bfa3ba",
   "metadata": {},
   "source": [
    "### The CSF and multi-scale spatial filtering"
   ]
  },
  {
   "cell_type": "code",
   "execution_count": null,
   "id": "af3d3403",
   "metadata": {},
   "outputs": [],
   "source": []
  },
  {
   "cell_type": "markdown",
   "id": "2a1ba277",
   "metadata": {},
   "source": [
    "## Other applications\n",
    "\n",
    "### Multi-scale spatial filtering and brightness perception"
   ]
  },
  {
   "cell_type": "code",
   "execution_count": null,
   "id": "b599caa4",
   "metadata": {},
   "outputs": [],
   "source": []
  },
  {
   "cell_type": "code",
   "execution_count": null,
   "id": "41cc6cd2",
   "metadata": {},
   "outputs": [],
   "source": []
  },
  {
   "cell_type": "code",
   "execution_count": null,
   "id": "7fffc517",
   "metadata": {},
   "outputs": [],
   "source": []
  },
  {
   "cell_type": "code",
   "execution_count": null,
   "id": "94b005a6",
   "metadata": {},
   "outputs": [],
   "source": []
  },
  {
   "cell_type": "code",
   "execution_count": null,
   "id": "7e69613d",
   "metadata": {},
   "outputs": [],
   "source": []
  }
 ],
 "metadata": {
  "kernelspec": {
   "display_name": "Python 3 (ipykernel)",
   "language": "python",
   "name": "python3"
  },
  "language_info": {
   "codemirror_mode": {
    "name": "ipython",
    "version": 3
   },
   "file_extension": ".py",
   "mimetype": "text/x-python",
   "name": "python",
   "nbconvert_exporter": "python",
   "pygments_lexer": "ipython3",
   "version": "3.7.13"
  }
 },
 "nbformat": 4,
 "nbformat_minor": 5
}
